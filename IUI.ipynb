{
 "cells": [
  {
   "cell_type": "code",
   "execution_count": 1,
   "metadata": {},
   "outputs": [],
   "source": [
    "import pandas as pd\n",
    "import numpy as np\n",
    "import datetime\n",
    "import matplotlib.pyplot as plt\n",
    "import seaborn as sns\n",
    "import matplotlib.ticker as ticker\n",
    "%matplotlib inline"
   ]
  },
  {
   "cell_type": "code",
   "execution_count": 2,
   "metadata": {},
   "outputs": [],
   "source": [
    "df = pd.concat(pd.read_excel('IUI DATA of Dr.MKP 222_V2.xlsx', sheet_name=None), ignore_index=True)"
   ]
  },
  {
   "cell_type": "code",
   "execution_count": 3,
   "metadata": {},
   "outputs": [
    {
     "name": "stdout",
     "output_type": "stream",
     "text": [
      "<class 'pandas.core.frame.DataFrame'>\n",
      "RangeIndex: 599 entries, 0 to 598\n",
      "Data columns (total 6 columns):\n",
      " #   Column                  Non-Null Count  Dtype  \n",
      "---  ------                  --------------  -----  \n",
      " 0   Age (M)                 597 non-null    float64\n",
      " 1   Age (F)                 597 non-null    float64\n",
      " 2   mot_prewash             596 non-null    object \n",
      " 3   number of insemination  596 non-null    object \n",
      " 4   No of IUI applied       597 non-null    float64\n",
      " 5   Conception Successful   594 non-null    object \n",
      "dtypes: float64(3), object(3)\n",
      "memory usage: 28.2+ KB\n"
     ]
    }
   ],
   "source": [
    "df.info()"
   ]
  },
  {
   "cell_type": "code",
   "execution_count": 4,
   "metadata": {},
   "outputs": [
    {
     "data": {
      "text/html": [
       "<div>\n",
       "<style scoped>\n",
       "    .dataframe tbody tr th:only-of-type {\n",
       "        vertical-align: middle;\n",
       "    }\n",
       "\n",
       "    .dataframe tbody tr th {\n",
       "        vertical-align: top;\n",
       "    }\n",
       "\n",
       "    .dataframe thead th {\n",
       "        text-align: right;\n",
       "    }\n",
       "</style>\n",
       "<table border=\"1\" class=\"dataframe\">\n",
       "  <thead>\n",
       "    <tr style=\"text-align: right;\">\n",
       "      <th></th>\n",
       "      <th>Age (M)</th>\n",
       "      <th>Age (F)</th>\n",
       "      <th>mot_prewash</th>\n",
       "      <th>number of insemination</th>\n",
       "      <th>No of IUI applied</th>\n",
       "      <th>Conception Successful</th>\n",
       "    </tr>\n",
       "  </thead>\n",
       "  <tbody>\n",
       "    <tr>\n",
       "      <th>0</th>\n",
       "      <td>NaN</td>\n",
       "      <td>NaN</td>\n",
       "      <td>NaN</td>\n",
       "      <td>NaN</td>\n",
       "      <td>NaN</td>\n",
       "      <td>NaN</td>\n",
       "    </tr>\n",
       "    <tr>\n",
       "      <th>1</th>\n",
       "      <td>NaN</td>\n",
       "      <td>NaN</td>\n",
       "      <td>NaN</td>\n",
       "      <td>NaN</td>\n",
       "      <td>NaN</td>\n",
       "      <td>NaN</td>\n",
       "    </tr>\n",
       "    <tr>\n",
       "      <th>2</th>\n",
       "      <td>35.0</td>\n",
       "      <td>22.0</td>\n",
       "      <td>73</td>\n",
       "      <td>Single</td>\n",
       "      <td>1.0</td>\n",
       "      <td>YES</td>\n",
       "    </tr>\n",
       "    <tr>\n",
       "      <th>3</th>\n",
       "      <td>31.0</td>\n",
       "      <td>19.0</td>\n",
       "      <td>75</td>\n",
       "      <td>Single</td>\n",
       "      <td>1.0</td>\n",
       "      <td>YES</td>\n",
       "    </tr>\n",
       "    <tr>\n",
       "      <th>4</th>\n",
       "      <td>27.0</td>\n",
       "      <td>35.0</td>\n",
       "      <td>63</td>\n",
       "      <td>Single</td>\n",
       "      <td>1.0</td>\n",
       "      <td>NO</td>\n",
       "    </tr>\n",
       "  </tbody>\n",
       "</table>\n",
       "</div>"
      ],
      "text/plain": [
       "   Age (M)  Age (F)  mot_prewash number of insemination  No of IUI applied  \\\n",
       "0      NaN       NaN         NaN                    NaN                NaN   \n",
       "1      NaN       NaN         NaN                    NaN                NaN   \n",
       "2     35.0      22.0          73                 Single                1.0   \n",
       "3     31.0      19.0          75                 Single                1.0   \n",
       "4     27.0      35.0          63                 Single                1.0   \n",
       "\n",
       "  Conception Successful   \n",
       "0                    NaN  \n",
       "1                    NaN  \n",
       "2                    YES  \n",
       "3                    YES  \n",
       "4                     NO  "
      ]
     },
     "execution_count": 4,
     "metadata": {},
     "output_type": "execute_result"
    }
   ],
   "source": [
    "df.head()"
   ]
  },
  {
   "cell_type": "code",
   "execution_count": 5,
   "metadata": {},
   "outputs": [],
   "source": [
    "df = df.drop(df.index[[0,1]])"
   ]
  },
  {
   "cell_type": "code",
   "execution_count": 6,
   "metadata": {},
   "outputs": [
    {
     "data": {
      "text/html": [
       "<div>\n",
       "<style scoped>\n",
       "    .dataframe tbody tr th:only-of-type {\n",
       "        vertical-align: middle;\n",
       "    }\n",
       "\n",
       "    .dataframe tbody tr th {\n",
       "        vertical-align: top;\n",
       "    }\n",
       "\n",
       "    .dataframe thead th {\n",
       "        text-align: right;\n",
       "    }\n",
       "</style>\n",
       "<table border=\"1\" class=\"dataframe\">\n",
       "  <thead>\n",
       "    <tr style=\"text-align: right;\">\n",
       "      <th></th>\n",
       "      <th>Age (M)</th>\n",
       "      <th>Age (F)</th>\n",
       "      <th>mot_prewash</th>\n",
       "      <th>number of insemination</th>\n",
       "      <th>No of IUI applied</th>\n",
       "      <th>Conception Successful</th>\n",
       "    </tr>\n",
       "  </thead>\n",
       "  <tbody>\n",
       "    <tr>\n",
       "      <th>2</th>\n",
       "      <td>35.0</td>\n",
       "      <td>22.0</td>\n",
       "      <td>73</td>\n",
       "      <td>Single</td>\n",
       "      <td>1.0</td>\n",
       "      <td>YES</td>\n",
       "    </tr>\n",
       "    <tr>\n",
       "      <th>3</th>\n",
       "      <td>31.0</td>\n",
       "      <td>19.0</td>\n",
       "      <td>75</td>\n",
       "      <td>Single</td>\n",
       "      <td>1.0</td>\n",
       "      <td>YES</td>\n",
       "    </tr>\n",
       "    <tr>\n",
       "      <th>4</th>\n",
       "      <td>27.0</td>\n",
       "      <td>35.0</td>\n",
       "      <td>63</td>\n",
       "      <td>Single</td>\n",
       "      <td>1.0</td>\n",
       "      <td>NO</td>\n",
       "    </tr>\n",
       "    <tr>\n",
       "      <th>5</th>\n",
       "      <td>27.0</td>\n",
       "      <td>20.0</td>\n",
       "      <td>77</td>\n",
       "      <td>DOUBLE</td>\n",
       "      <td>2.0</td>\n",
       "      <td>YES</td>\n",
       "    </tr>\n",
       "    <tr>\n",
       "      <th>6</th>\n",
       "      <td>53.0</td>\n",
       "      <td>32.0</td>\n",
       "      <td>53</td>\n",
       "      <td>DOUBLE</td>\n",
       "      <td>1.0</td>\n",
       "      <td>no</td>\n",
       "    </tr>\n",
       "  </tbody>\n",
       "</table>\n",
       "</div>"
      ],
      "text/plain": [
       "   Age (M)  Age (F)  mot_prewash number of insemination  No of IUI applied  \\\n",
       "2     35.0      22.0          73                 Single                1.0   \n",
       "3     31.0      19.0          75                 Single                1.0   \n",
       "4     27.0      35.0          63                 Single                1.0   \n",
       "5     27.0      20.0          77                 DOUBLE                2.0   \n",
       "6     53.0      32.0          53                 DOUBLE                1.0   \n",
       "\n",
       "  Conception Successful   \n",
       "2                    YES  \n",
       "3                    YES  \n",
       "4                     NO  \n",
       "5                    YES  \n",
       "6                     no  "
      ]
     },
     "execution_count": 6,
     "metadata": {},
     "output_type": "execute_result"
    }
   ],
   "source": [
    "df.head()"
   ]
  },
  {
   "cell_type": "code",
   "execution_count": 7,
   "metadata": {},
   "outputs": [],
   "source": [
    "df = df.reset_index()"
   ]
  },
  {
   "cell_type": "code",
   "execution_count": 8,
   "metadata": {},
   "outputs": [
    {
     "data": {
      "text/html": [
       "<div>\n",
       "<style scoped>\n",
       "    .dataframe tbody tr th:only-of-type {\n",
       "        vertical-align: middle;\n",
       "    }\n",
       "\n",
       "    .dataframe tbody tr th {\n",
       "        vertical-align: top;\n",
       "    }\n",
       "\n",
       "    .dataframe thead th {\n",
       "        text-align: right;\n",
       "    }\n",
       "</style>\n",
       "<table border=\"1\" class=\"dataframe\">\n",
       "  <thead>\n",
       "    <tr style=\"text-align: right;\">\n",
       "      <th></th>\n",
       "      <th>index</th>\n",
       "      <th>Age (M)</th>\n",
       "      <th>Age (F)</th>\n",
       "      <th>mot_prewash</th>\n",
       "      <th>number of insemination</th>\n",
       "      <th>No of IUI applied</th>\n",
       "      <th>Conception Successful</th>\n",
       "    </tr>\n",
       "  </thead>\n",
       "  <tbody>\n",
       "    <tr>\n",
       "      <th>0</th>\n",
       "      <td>2</td>\n",
       "      <td>35.0</td>\n",
       "      <td>22.0</td>\n",
       "      <td>73</td>\n",
       "      <td>Single</td>\n",
       "      <td>1.0</td>\n",
       "      <td>YES</td>\n",
       "    </tr>\n",
       "    <tr>\n",
       "      <th>1</th>\n",
       "      <td>3</td>\n",
       "      <td>31.0</td>\n",
       "      <td>19.0</td>\n",
       "      <td>75</td>\n",
       "      <td>Single</td>\n",
       "      <td>1.0</td>\n",
       "      <td>YES</td>\n",
       "    </tr>\n",
       "    <tr>\n",
       "      <th>2</th>\n",
       "      <td>4</td>\n",
       "      <td>27.0</td>\n",
       "      <td>35.0</td>\n",
       "      <td>63</td>\n",
       "      <td>Single</td>\n",
       "      <td>1.0</td>\n",
       "      <td>NO</td>\n",
       "    </tr>\n",
       "    <tr>\n",
       "      <th>3</th>\n",
       "      <td>5</td>\n",
       "      <td>27.0</td>\n",
       "      <td>20.0</td>\n",
       "      <td>77</td>\n",
       "      <td>DOUBLE</td>\n",
       "      <td>2.0</td>\n",
       "      <td>YES</td>\n",
       "    </tr>\n",
       "    <tr>\n",
       "      <th>4</th>\n",
       "      <td>6</td>\n",
       "      <td>53.0</td>\n",
       "      <td>32.0</td>\n",
       "      <td>53</td>\n",
       "      <td>DOUBLE</td>\n",
       "      <td>1.0</td>\n",
       "      <td>no</td>\n",
       "    </tr>\n",
       "  </tbody>\n",
       "</table>\n",
       "</div>"
      ],
      "text/plain": [
       "   index  Age (M)  Age (F)  mot_prewash number of insemination  \\\n",
       "0      2     35.0      22.0          73                 Single   \n",
       "1      3     31.0      19.0          75                 Single   \n",
       "2      4     27.0      35.0          63                 Single   \n",
       "3      5     27.0      20.0          77                 DOUBLE   \n",
       "4      6     53.0      32.0          53                 DOUBLE   \n",
       "\n",
       "   No of IUI applied Conception Successful   \n",
       "0                1.0                    YES  \n",
       "1                1.0                    YES  \n",
       "2                1.0                     NO  \n",
       "3                2.0                    YES  \n",
       "4                1.0                     no  "
      ]
     },
     "execution_count": 8,
     "metadata": {},
     "output_type": "execute_result"
    }
   ],
   "source": [
    "df.head()"
   ]
  },
  {
   "cell_type": "code",
   "execution_count": 9,
   "metadata": {},
   "outputs": [],
   "source": [
    "df = df.drop(['index'], axis = 1) "
   ]
  },
  {
   "cell_type": "code",
   "execution_count": 11,
   "metadata": {},
   "outputs": [
    {
     "data": {
      "text/html": [
       "<div>\n",
       "<style scoped>\n",
       "    .dataframe tbody tr th:only-of-type {\n",
       "        vertical-align: middle;\n",
       "    }\n",
       "\n",
       "    .dataframe tbody tr th {\n",
       "        vertical-align: top;\n",
       "    }\n",
       "\n",
       "    .dataframe thead th {\n",
       "        text-align: right;\n",
       "    }\n",
       "</style>\n",
       "<table border=\"1\" class=\"dataframe\">\n",
       "  <thead>\n",
       "    <tr style=\"text-align: right;\">\n",
       "      <th></th>\n",
       "      <th>Age (M)</th>\n",
       "      <th>Age (F)</th>\n",
       "      <th>mot_prewash</th>\n",
       "      <th>number of insemination</th>\n",
       "      <th>No of IUI applied</th>\n",
       "      <th>Conception Successful</th>\n",
       "    </tr>\n",
       "  </thead>\n",
       "  <tbody>\n",
       "    <tr>\n",
       "      <th>0</th>\n",
       "      <td>35.0</td>\n",
       "      <td>22.0</td>\n",
       "      <td>73</td>\n",
       "      <td>Single</td>\n",
       "      <td>1.0</td>\n",
       "      <td>YES</td>\n",
       "    </tr>\n",
       "    <tr>\n",
       "      <th>1</th>\n",
       "      <td>31.0</td>\n",
       "      <td>19.0</td>\n",
       "      <td>75</td>\n",
       "      <td>Single</td>\n",
       "      <td>1.0</td>\n",
       "      <td>YES</td>\n",
       "    </tr>\n",
       "    <tr>\n",
       "      <th>2</th>\n",
       "      <td>27.0</td>\n",
       "      <td>35.0</td>\n",
       "      <td>63</td>\n",
       "      <td>Single</td>\n",
       "      <td>1.0</td>\n",
       "      <td>NO</td>\n",
       "    </tr>\n",
       "    <tr>\n",
       "      <th>3</th>\n",
       "      <td>27.0</td>\n",
       "      <td>20.0</td>\n",
       "      <td>77</td>\n",
       "      <td>DOUBLE</td>\n",
       "      <td>2.0</td>\n",
       "      <td>YES</td>\n",
       "    </tr>\n",
       "    <tr>\n",
       "      <th>4</th>\n",
       "      <td>53.0</td>\n",
       "      <td>32.0</td>\n",
       "      <td>53</td>\n",
       "      <td>DOUBLE</td>\n",
       "      <td>1.0</td>\n",
       "      <td>no</td>\n",
       "    </tr>\n",
       "    <tr>\n",
       "      <th>5</th>\n",
       "      <td>38.0</td>\n",
       "      <td>29.0</td>\n",
       "      <td>68</td>\n",
       "      <td>DOUBLE</td>\n",
       "      <td>2.0</td>\n",
       "      <td>YES</td>\n",
       "    </tr>\n",
       "    <tr>\n",
       "      <th>6</th>\n",
       "      <td>36.0</td>\n",
       "      <td>28.0</td>\n",
       "      <td>56</td>\n",
       "      <td>DOUBLE</td>\n",
       "      <td>1.0</td>\n",
       "      <td>no</td>\n",
       "    </tr>\n",
       "    <tr>\n",
       "      <th>7</th>\n",
       "      <td>35.0</td>\n",
       "      <td>23.0</td>\n",
       "      <td>75</td>\n",
       "      <td>DOUBLE</td>\n",
       "      <td>2.0</td>\n",
       "      <td>YES</td>\n",
       "    </tr>\n",
       "    <tr>\n",
       "      <th>8</th>\n",
       "      <td>29.0</td>\n",
       "      <td>23.0</td>\n",
       "      <td>62</td>\n",
       "      <td>DOUBLE</td>\n",
       "      <td>1.0</td>\n",
       "      <td>YES</td>\n",
       "    </tr>\n",
       "    <tr>\n",
       "      <th>9</th>\n",
       "      <td>45.0</td>\n",
       "      <td>38.0</td>\n",
       "      <td>53</td>\n",
       "      <td>DOUBLE</td>\n",
       "      <td>3.0</td>\n",
       "      <td>no</td>\n",
       "    </tr>\n",
       "    <tr>\n",
       "      <th>10</th>\n",
       "      <td>32.0</td>\n",
       "      <td>29.0</td>\n",
       "      <td>70</td>\n",
       "      <td>Single</td>\n",
       "      <td>2.0</td>\n",
       "      <td>YES</td>\n",
       "    </tr>\n",
       "    <tr>\n",
       "      <th>11</th>\n",
       "      <td>29.0</td>\n",
       "      <td>22.0</td>\n",
       "      <td>67</td>\n",
       "      <td>Single</td>\n",
       "      <td>1.0</td>\n",
       "      <td>YES</td>\n",
       "    </tr>\n",
       "    <tr>\n",
       "      <th>12</th>\n",
       "      <td>38.0</td>\n",
       "      <td>31.0</td>\n",
       "      <td>75</td>\n",
       "      <td>Single</td>\n",
       "      <td>3.0</td>\n",
       "      <td>YES</td>\n",
       "    </tr>\n",
       "    <tr>\n",
       "      <th>13</th>\n",
       "      <td>37.0</td>\n",
       "      <td>37.0</td>\n",
       "      <td>68</td>\n",
       "      <td>DOUBLE</td>\n",
       "      <td>1.0</td>\n",
       "      <td>NO</td>\n",
       "    </tr>\n",
       "    <tr>\n",
       "      <th>14</th>\n",
       "      <td>30.0</td>\n",
       "      <td>26.0</td>\n",
       "      <td>62</td>\n",
       "      <td>DOUBLE</td>\n",
       "      <td>3.0</td>\n",
       "      <td>YES</td>\n",
       "    </tr>\n",
       "    <tr>\n",
       "      <th>15</th>\n",
       "      <td>32.0</td>\n",
       "      <td>21.0</td>\n",
       "      <td>73</td>\n",
       "      <td>DOUBLE</td>\n",
       "      <td>2.0</td>\n",
       "      <td>YES</td>\n",
       "    </tr>\n",
       "    <tr>\n",
       "      <th>16</th>\n",
       "      <td>36.0</td>\n",
       "      <td>29.0</td>\n",
       "      <td>64</td>\n",
       "      <td>Single</td>\n",
       "      <td>1.0</td>\n",
       "      <td>NO</td>\n",
       "    </tr>\n",
       "    <tr>\n",
       "      <th>17</th>\n",
       "      <td>42.0</td>\n",
       "      <td>36.0</td>\n",
       "      <td>76</td>\n",
       "      <td>Single</td>\n",
       "      <td>3.0</td>\n",
       "      <td>no</td>\n",
       "    </tr>\n",
       "    <tr>\n",
       "      <th>18</th>\n",
       "      <td>39.0</td>\n",
       "      <td>30.0</td>\n",
       "      <td>77</td>\n",
       "      <td>DOUBLE</td>\n",
       "      <td>1.0</td>\n",
       "      <td>YES</td>\n",
       "    </tr>\n",
       "    <tr>\n",
       "      <th>19</th>\n",
       "      <td>66.0</td>\n",
       "      <td>36.0</td>\n",
       "      <td>80</td>\n",
       "      <td>DOUBLE</td>\n",
       "      <td>2.0</td>\n",
       "      <td>YES</td>\n",
       "    </tr>\n",
       "    <tr>\n",
       "      <th>20</th>\n",
       "      <td>30.0</td>\n",
       "      <td>24.0</td>\n",
       "      <td>64</td>\n",
       "      <td>Single</td>\n",
       "      <td>1.0</td>\n",
       "      <td>NO</td>\n",
       "    </tr>\n",
       "    <tr>\n",
       "      <th>21</th>\n",
       "      <td>33.0</td>\n",
       "      <td>23.0</td>\n",
       "      <td>61</td>\n",
       "      <td>Double</td>\n",
       "      <td>3.0</td>\n",
       "      <td>NO</td>\n",
       "    </tr>\n",
       "    <tr>\n",
       "      <th>22</th>\n",
       "      <td>49.0</td>\n",
       "      <td>39.0</td>\n",
       "      <td>85</td>\n",
       "      <td>DOUBLE</td>\n",
       "      <td>1.0</td>\n",
       "      <td>YES</td>\n",
       "    </tr>\n",
       "    <tr>\n",
       "      <th>23</th>\n",
       "      <td>32.0</td>\n",
       "      <td>30.0</td>\n",
       "      <td>81</td>\n",
       "      <td>DOUBLE</td>\n",
       "      <td>3.0</td>\n",
       "      <td>YES</td>\n",
       "    </tr>\n",
       "    <tr>\n",
       "      <th>24</th>\n",
       "      <td>36.0</td>\n",
       "      <td>25.0</td>\n",
       "      <td>58</td>\n",
       "      <td>DOUBLE</td>\n",
       "      <td>1.0</td>\n",
       "      <td>YES</td>\n",
       "    </tr>\n",
       "    <tr>\n",
       "      <th>25</th>\n",
       "      <td>36.0</td>\n",
       "      <td>28.0</td>\n",
       "      <td>67</td>\n",
       "      <td>DOUBLE</td>\n",
       "      <td>1.0</td>\n",
       "      <td>YES</td>\n",
       "    </tr>\n",
       "    <tr>\n",
       "      <th>26</th>\n",
       "      <td>37.0</td>\n",
       "      <td>27.0</td>\n",
       "      <td>60</td>\n",
       "      <td>DOUBLE</td>\n",
       "      <td>2.0</td>\n",
       "      <td>YES</td>\n",
       "    </tr>\n",
       "    <tr>\n",
       "      <th>27</th>\n",
       "      <td>40.0</td>\n",
       "      <td>23.0</td>\n",
       "      <td>40</td>\n",
       "      <td>DOUBLE</td>\n",
       "      <td>3.0</td>\n",
       "      <td>NO</td>\n",
       "    </tr>\n",
       "    <tr>\n",
       "      <th>28</th>\n",
       "      <td>33.0</td>\n",
       "      <td>29.0</td>\n",
       "      <td>77</td>\n",
       "      <td>DOUBLE</td>\n",
       "      <td>3.0</td>\n",
       "      <td>YES</td>\n",
       "    </tr>\n",
       "    <tr>\n",
       "      <th>29</th>\n",
       "      <td>33.0</td>\n",
       "      <td>23.0</td>\n",
       "      <td>46</td>\n",
       "      <td>Single</td>\n",
       "      <td>2.0</td>\n",
       "      <td>NO</td>\n",
       "    </tr>\n",
       "    <tr>\n",
       "      <th>30</th>\n",
       "      <td>35.0</td>\n",
       "      <td>25.0</td>\n",
       "      <td>77</td>\n",
       "      <td>Single</td>\n",
       "      <td>2.0</td>\n",
       "      <td>YES</td>\n",
       "    </tr>\n",
       "    <tr>\n",
       "      <th>31</th>\n",
       "      <td>34.0</td>\n",
       "      <td>21.0</td>\n",
       "      <td>46</td>\n",
       "      <td>Single</td>\n",
       "      <td>1.0</td>\n",
       "      <td>NO</td>\n",
       "    </tr>\n",
       "    <tr>\n",
       "      <th>32</th>\n",
       "      <td>35.0</td>\n",
       "      <td>23.0</td>\n",
       "      <td>58</td>\n",
       "      <td>DOUBLE</td>\n",
       "      <td>2.0</td>\n",
       "      <td>NO</td>\n",
       "    </tr>\n",
       "    <tr>\n",
       "      <th>33</th>\n",
       "      <td>28.0</td>\n",
       "      <td>20.0</td>\n",
       "      <td>68</td>\n",
       "      <td>Single</td>\n",
       "      <td>2.0</td>\n",
       "      <td>YES</td>\n",
       "    </tr>\n",
       "    <tr>\n",
       "      <th>34</th>\n",
       "      <td>40.0</td>\n",
       "      <td>24.0</td>\n",
       "      <td>66</td>\n",
       "      <td>DOUBLE</td>\n",
       "      <td>2.0</td>\n",
       "      <td>YES</td>\n",
       "    </tr>\n",
       "    <tr>\n",
       "      <th>35</th>\n",
       "      <td>37.0</td>\n",
       "      <td>35.0</td>\n",
       "      <td>72</td>\n",
       "      <td>DOUBLE</td>\n",
       "      <td>1.0</td>\n",
       "      <td>NO</td>\n",
       "    </tr>\n",
       "    <tr>\n",
       "      <th>36</th>\n",
       "      <td>38.0</td>\n",
       "      <td>31.0</td>\n",
       "      <td>70</td>\n",
       "      <td>Single</td>\n",
       "      <td>1.0</td>\n",
       "      <td>YES</td>\n",
       "    </tr>\n",
       "    <tr>\n",
       "      <th>37</th>\n",
       "      <td>42.0</td>\n",
       "      <td>36.0</td>\n",
       "      <td>80</td>\n",
       "      <td>DOUBLE</td>\n",
       "      <td>1.0</td>\n",
       "      <td>YES</td>\n",
       "    </tr>\n",
       "    <tr>\n",
       "      <th>38</th>\n",
       "      <td>36.0</td>\n",
       "      <td>32.0</td>\n",
       "      <td>70</td>\n",
       "      <td>DOUBLE</td>\n",
       "      <td>2.0</td>\n",
       "      <td>YES</td>\n",
       "    </tr>\n",
       "    <tr>\n",
       "      <th>39</th>\n",
       "      <td>49.0</td>\n",
       "      <td>29.0</td>\n",
       "      <td>72</td>\n",
       "      <td>DOUBLE</td>\n",
       "      <td>1.0</td>\n",
       "      <td>YES</td>\n",
       "    </tr>\n",
       "    <tr>\n",
       "      <th>40</th>\n",
       "      <td>40.0</td>\n",
       "      <td>32.0</td>\n",
       "      <td>66</td>\n",
       "      <td>DOUBLE</td>\n",
       "      <td>1.0</td>\n",
       "      <td>YES</td>\n",
       "    </tr>\n",
       "    <tr>\n",
       "      <th>41</th>\n",
       "      <td>30.0</td>\n",
       "      <td>21.0</td>\n",
       "      <td>74</td>\n",
       "      <td>DOUBLE</td>\n",
       "      <td>1.0</td>\n",
       "      <td>YES</td>\n",
       "    </tr>\n",
       "    <tr>\n",
       "      <th>42</th>\n",
       "      <td>40.0</td>\n",
       "      <td>23.0</td>\n",
       "      <td>61</td>\n",
       "      <td>DOUBLE</td>\n",
       "      <td>2.0</td>\n",
       "      <td>NO</td>\n",
       "    </tr>\n",
       "    <tr>\n",
       "      <th>43</th>\n",
       "      <td>33.0</td>\n",
       "      <td>23.0</td>\n",
       "      <td>76</td>\n",
       "      <td>DOUBLE</td>\n",
       "      <td>2.0</td>\n",
       "      <td>YES</td>\n",
       "    </tr>\n",
       "    <tr>\n",
       "      <th>44</th>\n",
       "      <td>30.0</td>\n",
       "      <td>26.0</td>\n",
       "      <td>78</td>\n",
       "      <td>Single</td>\n",
       "      <td>2.0</td>\n",
       "      <td>YES</td>\n",
       "    </tr>\n",
       "    <tr>\n",
       "      <th>45</th>\n",
       "      <td>34.0</td>\n",
       "      <td>20.0</td>\n",
       "      <td>68</td>\n",
       "      <td>Single</td>\n",
       "      <td>2.0</td>\n",
       "      <td>YES</td>\n",
       "    </tr>\n",
       "    <tr>\n",
       "      <th>46</th>\n",
       "      <td>35.0</td>\n",
       "      <td>24.0</td>\n",
       "      <td>70</td>\n",
       "      <td>Single</td>\n",
       "      <td>2.0</td>\n",
       "      <td>YES</td>\n",
       "    </tr>\n",
       "    <tr>\n",
       "      <th>47</th>\n",
       "      <td>33.0</td>\n",
       "      <td>22.0</td>\n",
       "      <td>68</td>\n",
       "      <td>DOUBLE</td>\n",
       "      <td>3.0</td>\n",
       "      <td>YES</td>\n",
       "    </tr>\n",
       "    <tr>\n",
       "      <th>48</th>\n",
       "      <td>32.0</td>\n",
       "      <td>25.0</td>\n",
       "      <td>60</td>\n",
       "      <td>Single</td>\n",
       "      <td>3.0</td>\n",
       "      <td>no</td>\n",
       "    </tr>\n",
       "    <tr>\n",
       "      <th>49</th>\n",
       "      <td>35.0</td>\n",
       "      <td>28.0</td>\n",
       "      <td>57</td>\n",
       "      <td>DOUBLE</td>\n",
       "      <td>3.0</td>\n",
       "      <td>YES</td>\n",
       "    </tr>\n",
       "  </tbody>\n",
       "</table>\n",
       "</div>"
      ],
      "text/plain": [
       "    Age (M)  Age (F)  mot_prewash number of insemination  No of IUI applied  \\\n",
       "0      35.0      22.0          73                 Single                1.0   \n",
       "1      31.0      19.0          75                 Single                1.0   \n",
       "2      27.0      35.0          63                 Single                1.0   \n",
       "3      27.0      20.0          77                 DOUBLE                2.0   \n",
       "4      53.0      32.0          53                 DOUBLE                1.0   \n",
       "5      38.0      29.0          68                 DOUBLE                2.0   \n",
       "6      36.0      28.0          56                 DOUBLE                1.0   \n",
       "7      35.0      23.0          75                 DOUBLE                2.0   \n",
       "8      29.0      23.0          62                 DOUBLE                1.0   \n",
       "9      45.0      38.0          53                 DOUBLE                3.0   \n",
       "10     32.0      29.0          70                 Single                2.0   \n",
       "11     29.0      22.0          67                 Single                1.0   \n",
       "12     38.0      31.0          75                 Single                3.0   \n",
       "13     37.0      37.0          68                 DOUBLE                1.0   \n",
       "14     30.0      26.0          62                 DOUBLE                3.0   \n",
       "15     32.0      21.0          73                 DOUBLE                2.0   \n",
       "16     36.0      29.0          64                 Single                1.0   \n",
       "17     42.0      36.0          76                 Single                3.0   \n",
       "18     39.0      30.0          77                 DOUBLE                1.0   \n",
       "19     66.0      36.0          80                 DOUBLE                2.0   \n",
       "20     30.0      24.0          64                 Single                1.0   \n",
       "21     33.0      23.0          61                 Double                3.0   \n",
       "22     49.0      39.0          85                 DOUBLE                1.0   \n",
       "23     32.0      30.0          81                 DOUBLE                3.0   \n",
       "24     36.0      25.0          58                 DOUBLE                1.0   \n",
       "25     36.0      28.0          67                 DOUBLE                1.0   \n",
       "26     37.0      27.0          60                 DOUBLE                2.0   \n",
       "27     40.0      23.0          40                 DOUBLE                3.0   \n",
       "28     33.0      29.0          77                 DOUBLE                3.0   \n",
       "29     33.0      23.0          46                 Single                2.0   \n",
       "30     35.0      25.0          77                 Single                2.0   \n",
       "31     34.0      21.0          46                 Single                1.0   \n",
       "32     35.0      23.0          58                 DOUBLE                2.0   \n",
       "33     28.0      20.0          68                 Single                2.0   \n",
       "34     40.0      24.0          66                 DOUBLE                2.0   \n",
       "35     37.0      35.0          72                 DOUBLE                1.0   \n",
       "36     38.0      31.0          70                 Single                1.0   \n",
       "37     42.0      36.0          80                 DOUBLE                1.0   \n",
       "38     36.0      32.0          70                 DOUBLE                2.0   \n",
       "39     49.0      29.0          72                 DOUBLE                1.0   \n",
       "40     40.0      32.0          66                 DOUBLE                1.0   \n",
       "41     30.0      21.0          74                 DOUBLE                1.0   \n",
       "42     40.0      23.0          61                 DOUBLE                2.0   \n",
       "43     33.0      23.0          76                 DOUBLE                2.0   \n",
       "44     30.0      26.0          78                 Single                2.0   \n",
       "45     34.0      20.0          68                 Single                2.0   \n",
       "46     35.0      24.0          70                 Single                2.0   \n",
       "47     33.0      22.0          68                 DOUBLE                3.0   \n",
       "48     32.0      25.0          60                 Single                3.0   \n",
       "49     35.0      28.0          57                 DOUBLE                3.0   \n",
       "\n",
       "   Conception Successful   \n",
       "0                     YES  \n",
       "1                     YES  \n",
       "2                      NO  \n",
       "3                     YES  \n",
       "4                      no  \n",
       "5                     YES  \n",
       "6                      no  \n",
       "7                     YES  \n",
       "8                     YES  \n",
       "9                      no  \n",
       "10                    YES  \n",
       "11                    YES  \n",
       "12                    YES  \n",
       "13                     NO  \n",
       "14                    YES  \n",
       "15                    YES  \n",
       "16                     NO  \n",
       "17                     no  \n",
       "18                    YES  \n",
       "19                    YES  \n",
       "20                     NO  \n",
       "21                     NO  \n",
       "22                    YES  \n",
       "23                    YES  \n",
       "24                    YES  \n",
       "25                    YES  \n",
       "26                    YES  \n",
       "27                     NO  \n",
       "28                    YES  \n",
       "29                     NO  \n",
       "30                    YES  \n",
       "31                     NO  \n",
       "32                     NO  \n",
       "33                    YES  \n",
       "34                    YES  \n",
       "35                     NO  \n",
       "36                    YES  \n",
       "37                    YES  \n",
       "38                    YES  \n",
       "39                    YES  \n",
       "40                    YES  \n",
       "41                    YES  \n",
       "42                     NO  \n",
       "43                    YES  \n",
       "44                    YES  \n",
       "45                    YES  \n",
       "46                    YES  \n",
       "47                    YES  \n",
       "48                     no  \n",
       "49                    YES  "
      ]
     },
     "execution_count": 11,
     "metadata": {},
     "output_type": "execute_result"
    }
   ],
   "source": [
    "df.head(50)"
   ]
  },
  {
   "cell_type": "code",
   "execution_count": 12,
   "metadata": {},
   "outputs": [],
   "source": [
    "df = df.replace(to_replace =[\"no\"], value ='NO' ) "
   ]
  },
  {
   "cell_type": "code",
   "execution_count": 13,
   "metadata": {},
   "outputs": [
    {
     "data": {
      "text/html": [
       "<div>\n",
       "<style scoped>\n",
       "    .dataframe tbody tr th:only-of-type {\n",
       "        vertical-align: middle;\n",
       "    }\n",
       "\n",
       "    .dataframe tbody tr th {\n",
       "        vertical-align: top;\n",
       "    }\n",
       "\n",
       "    .dataframe thead th {\n",
       "        text-align: right;\n",
       "    }\n",
       "</style>\n",
       "<table border=\"1\" class=\"dataframe\">\n",
       "  <thead>\n",
       "    <tr style=\"text-align: right;\">\n",
       "      <th></th>\n",
       "      <th>Age (M)</th>\n",
       "      <th>Age (F)</th>\n",
       "      <th>mot_prewash</th>\n",
       "      <th>number of insemination</th>\n",
       "      <th>No of IUI applied</th>\n",
       "      <th>Conception Successful</th>\n",
       "    </tr>\n",
       "  </thead>\n",
       "  <tbody>\n",
       "    <tr>\n",
       "      <th>0</th>\n",
       "      <td>35.0</td>\n",
       "      <td>22.0</td>\n",
       "      <td>73</td>\n",
       "      <td>Single</td>\n",
       "      <td>1.0</td>\n",
       "      <td>YES</td>\n",
       "    </tr>\n",
       "    <tr>\n",
       "      <th>1</th>\n",
       "      <td>31.0</td>\n",
       "      <td>19.0</td>\n",
       "      <td>75</td>\n",
       "      <td>Single</td>\n",
       "      <td>1.0</td>\n",
       "      <td>YES</td>\n",
       "    </tr>\n",
       "    <tr>\n",
       "      <th>2</th>\n",
       "      <td>27.0</td>\n",
       "      <td>35.0</td>\n",
       "      <td>63</td>\n",
       "      <td>Single</td>\n",
       "      <td>1.0</td>\n",
       "      <td>NO</td>\n",
       "    </tr>\n",
       "    <tr>\n",
       "      <th>3</th>\n",
       "      <td>27.0</td>\n",
       "      <td>20.0</td>\n",
       "      <td>77</td>\n",
       "      <td>DOUBLE</td>\n",
       "      <td>2.0</td>\n",
       "      <td>YES</td>\n",
       "    </tr>\n",
       "    <tr>\n",
       "      <th>4</th>\n",
       "      <td>53.0</td>\n",
       "      <td>32.0</td>\n",
       "      <td>53</td>\n",
       "      <td>DOUBLE</td>\n",
       "      <td>1.0</td>\n",
       "      <td>NO</td>\n",
       "    </tr>\n",
       "    <tr>\n",
       "      <th>5</th>\n",
       "      <td>38.0</td>\n",
       "      <td>29.0</td>\n",
       "      <td>68</td>\n",
       "      <td>DOUBLE</td>\n",
       "      <td>2.0</td>\n",
       "      <td>YES</td>\n",
       "    </tr>\n",
       "    <tr>\n",
       "      <th>6</th>\n",
       "      <td>36.0</td>\n",
       "      <td>28.0</td>\n",
       "      <td>56</td>\n",
       "      <td>DOUBLE</td>\n",
       "      <td>1.0</td>\n",
       "      <td>NO</td>\n",
       "    </tr>\n",
       "    <tr>\n",
       "      <th>7</th>\n",
       "      <td>35.0</td>\n",
       "      <td>23.0</td>\n",
       "      <td>75</td>\n",
       "      <td>DOUBLE</td>\n",
       "      <td>2.0</td>\n",
       "      <td>YES</td>\n",
       "    </tr>\n",
       "    <tr>\n",
       "      <th>8</th>\n",
       "      <td>29.0</td>\n",
       "      <td>23.0</td>\n",
       "      <td>62</td>\n",
       "      <td>DOUBLE</td>\n",
       "      <td>1.0</td>\n",
       "      <td>YES</td>\n",
       "    </tr>\n",
       "    <tr>\n",
       "      <th>9</th>\n",
       "      <td>45.0</td>\n",
       "      <td>38.0</td>\n",
       "      <td>53</td>\n",
       "      <td>DOUBLE</td>\n",
       "      <td>3.0</td>\n",
       "      <td>NO</td>\n",
       "    </tr>\n",
       "    <tr>\n",
       "      <th>10</th>\n",
       "      <td>32.0</td>\n",
       "      <td>29.0</td>\n",
       "      <td>70</td>\n",
       "      <td>Single</td>\n",
       "      <td>2.0</td>\n",
       "      <td>YES</td>\n",
       "    </tr>\n",
       "    <tr>\n",
       "      <th>11</th>\n",
       "      <td>29.0</td>\n",
       "      <td>22.0</td>\n",
       "      <td>67</td>\n",
       "      <td>Single</td>\n",
       "      <td>1.0</td>\n",
       "      <td>YES</td>\n",
       "    </tr>\n",
       "    <tr>\n",
       "      <th>12</th>\n",
       "      <td>38.0</td>\n",
       "      <td>31.0</td>\n",
       "      <td>75</td>\n",
       "      <td>Single</td>\n",
       "      <td>3.0</td>\n",
       "      <td>YES</td>\n",
       "    </tr>\n",
       "    <tr>\n",
       "      <th>13</th>\n",
       "      <td>37.0</td>\n",
       "      <td>37.0</td>\n",
       "      <td>68</td>\n",
       "      <td>DOUBLE</td>\n",
       "      <td>1.0</td>\n",
       "      <td>NO</td>\n",
       "    </tr>\n",
       "    <tr>\n",
       "      <th>14</th>\n",
       "      <td>30.0</td>\n",
       "      <td>26.0</td>\n",
       "      <td>62</td>\n",
       "      <td>DOUBLE</td>\n",
       "      <td>3.0</td>\n",
       "      <td>YES</td>\n",
       "    </tr>\n",
       "    <tr>\n",
       "      <th>15</th>\n",
       "      <td>32.0</td>\n",
       "      <td>21.0</td>\n",
       "      <td>73</td>\n",
       "      <td>DOUBLE</td>\n",
       "      <td>2.0</td>\n",
       "      <td>YES</td>\n",
       "    </tr>\n",
       "    <tr>\n",
       "      <th>16</th>\n",
       "      <td>36.0</td>\n",
       "      <td>29.0</td>\n",
       "      <td>64</td>\n",
       "      <td>Single</td>\n",
       "      <td>1.0</td>\n",
       "      <td>NO</td>\n",
       "    </tr>\n",
       "    <tr>\n",
       "      <th>17</th>\n",
       "      <td>42.0</td>\n",
       "      <td>36.0</td>\n",
       "      <td>76</td>\n",
       "      <td>Single</td>\n",
       "      <td>3.0</td>\n",
       "      <td>NO</td>\n",
       "    </tr>\n",
       "    <tr>\n",
       "      <th>18</th>\n",
       "      <td>39.0</td>\n",
       "      <td>30.0</td>\n",
       "      <td>77</td>\n",
       "      <td>DOUBLE</td>\n",
       "      <td>1.0</td>\n",
       "      <td>YES</td>\n",
       "    </tr>\n",
       "    <tr>\n",
       "      <th>19</th>\n",
       "      <td>66.0</td>\n",
       "      <td>36.0</td>\n",
       "      <td>80</td>\n",
       "      <td>DOUBLE</td>\n",
       "      <td>2.0</td>\n",
       "      <td>YES</td>\n",
       "    </tr>\n",
       "    <tr>\n",
       "      <th>20</th>\n",
       "      <td>30.0</td>\n",
       "      <td>24.0</td>\n",
       "      <td>64</td>\n",
       "      <td>Single</td>\n",
       "      <td>1.0</td>\n",
       "      <td>NO</td>\n",
       "    </tr>\n",
       "    <tr>\n",
       "      <th>21</th>\n",
       "      <td>33.0</td>\n",
       "      <td>23.0</td>\n",
       "      <td>61</td>\n",
       "      <td>Double</td>\n",
       "      <td>3.0</td>\n",
       "      <td>NO</td>\n",
       "    </tr>\n",
       "    <tr>\n",
       "      <th>22</th>\n",
       "      <td>49.0</td>\n",
       "      <td>39.0</td>\n",
       "      <td>85</td>\n",
       "      <td>DOUBLE</td>\n",
       "      <td>1.0</td>\n",
       "      <td>YES</td>\n",
       "    </tr>\n",
       "    <tr>\n",
       "      <th>23</th>\n",
       "      <td>32.0</td>\n",
       "      <td>30.0</td>\n",
       "      <td>81</td>\n",
       "      <td>DOUBLE</td>\n",
       "      <td>3.0</td>\n",
       "      <td>YES</td>\n",
       "    </tr>\n",
       "    <tr>\n",
       "      <th>24</th>\n",
       "      <td>36.0</td>\n",
       "      <td>25.0</td>\n",
       "      <td>58</td>\n",
       "      <td>DOUBLE</td>\n",
       "      <td>1.0</td>\n",
       "      <td>YES</td>\n",
       "    </tr>\n",
       "    <tr>\n",
       "      <th>25</th>\n",
       "      <td>36.0</td>\n",
       "      <td>28.0</td>\n",
       "      <td>67</td>\n",
       "      <td>DOUBLE</td>\n",
       "      <td>1.0</td>\n",
       "      <td>YES</td>\n",
       "    </tr>\n",
       "    <tr>\n",
       "      <th>26</th>\n",
       "      <td>37.0</td>\n",
       "      <td>27.0</td>\n",
       "      <td>60</td>\n",
       "      <td>DOUBLE</td>\n",
       "      <td>2.0</td>\n",
       "      <td>YES</td>\n",
       "    </tr>\n",
       "    <tr>\n",
       "      <th>27</th>\n",
       "      <td>40.0</td>\n",
       "      <td>23.0</td>\n",
       "      <td>40</td>\n",
       "      <td>DOUBLE</td>\n",
       "      <td>3.0</td>\n",
       "      <td>NO</td>\n",
       "    </tr>\n",
       "    <tr>\n",
       "      <th>28</th>\n",
       "      <td>33.0</td>\n",
       "      <td>29.0</td>\n",
       "      <td>77</td>\n",
       "      <td>DOUBLE</td>\n",
       "      <td>3.0</td>\n",
       "      <td>YES</td>\n",
       "    </tr>\n",
       "    <tr>\n",
       "      <th>29</th>\n",
       "      <td>33.0</td>\n",
       "      <td>23.0</td>\n",
       "      <td>46</td>\n",
       "      <td>Single</td>\n",
       "      <td>2.0</td>\n",
       "      <td>NO</td>\n",
       "    </tr>\n",
       "    <tr>\n",
       "      <th>30</th>\n",
       "      <td>35.0</td>\n",
       "      <td>25.0</td>\n",
       "      <td>77</td>\n",
       "      <td>Single</td>\n",
       "      <td>2.0</td>\n",
       "      <td>YES</td>\n",
       "    </tr>\n",
       "    <tr>\n",
       "      <th>31</th>\n",
       "      <td>34.0</td>\n",
       "      <td>21.0</td>\n",
       "      <td>46</td>\n",
       "      <td>Single</td>\n",
       "      <td>1.0</td>\n",
       "      <td>NO</td>\n",
       "    </tr>\n",
       "    <tr>\n",
       "      <th>32</th>\n",
       "      <td>35.0</td>\n",
       "      <td>23.0</td>\n",
       "      <td>58</td>\n",
       "      <td>DOUBLE</td>\n",
       "      <td>2.0</td>\n",
       "      <td>NO</td>\n",
       "    </tr>\n",
       "    <tr>\n",
       "      <th>33</th>\n",
       "      <td>28.0</td>\n",
       "      <td>20.0</td>\n",
       "      <td>68</td>\n",
       "      <td>Single</td>\n",
       "      <td>2.0</td>\n",
       "      <td>YES</td>\n",
       "    </tr>\n",
       "    <tr>\n",
       "      <th>34</th>\n",
       "      <td>40.0</td>\n",
       "      <td>24.0</td>\n",
       "      <td>66</td>\n",
       "      <td>DOUBLE</td>\n",
       "      <td>2.0</td>\n",
       "      <td>YES</td>\n",
       "    </tr>\n",
       "    <tr>\n",
       "      <th>35</th>\n",
       "      <td>37.0</td>\n",
       "      <td>35.0</td>\n",
       "      <td>72</td>\n",
       "      <td>DOUBLE</td>\n",
       "      <td>1.0</td>\n",
       "      <td>NO</td>\n",
       "    </tr>\n",
       "    <tr>\n",
       "      <th>36</th>\n",
       "      <td>38.0</td>\n",
       "      <td>31.0</td>\n",
       "      <td>70</td>\n",
       "      <td>Single</td>\n",
       "      <td>1.0</td>\n",
       "      <td>YES</td>\n",
       "    </tr>\n",
       "    <tr>\n",
       "      <th>37</th>\n",
       "      <td>42.0</td>\n",
       "      <td>36.0</td>\n",
       "      <td>80</td>\n",
       "      <td>DOUBLE</td>\n",
       "      <td>1.0</td>\n",
       "      <td>YES</td>\n",
       "    </tr>\n",
       "    <tr>\n",
       "      <th>38</th>\n",
       "      <td>36.0</td>\n",
       "      <td>32.0</td>\n",
       "      <td>70</td>\n",
       "      <td>DOUBLE</td>\n",
       "      <td>2.0</td>\n",
       "      <td>YES</td>\n",
       "    </tr>\n",
       "    <tr>\n",
       "      <th>39</th>\n",
       "      <td>49.0</td>\n",
       "      <td>29.0</td>\n",
       "      <td>72</td>\n",
       "      <td>DOUBLE</td>\n",
       "      <td>1.0</td>\n",
       "      <td>YES</td>\n",
       "    </tr>\n",
       "    <tr>\n",
       "      <th>40</th>\n",
       "      <td>40.0</td>\n",
       "      <td>32.0</td>\n",
       "      <td>66</td>\n",
       "      <td>DOUBLE</td>\n",
       "      <td>1.0</td>\n",
       "      <td>YES</td>\n",
       "    </tr>\n",
       "    <tr>\n",
       "      <th>41</th>\n",
       "      <td>30.0</td>\n",
       "      <td>21.0</td>\n",
       "      <td>74</td>\n",
       "      <td>DOUBLE</td>\n",
       "      <td>1.0</td>\n",
       "      <td>YES</td>\n",
       "    </tr>\n",
       "    <tr>\n",
       "      <th>42</th>\n",
       "      <td>40.0</td>\n",
       "      <td>23.0</td>\n",
       "      <td>61</td>\n",
       "      <td>DOUBLE</td>\n",
       "      <td>2.0</td>\n",
       "      <td>NO</td>\n",
       "    </tr>\n",
       "    <tr>\n",
       "      <th>43</th>\n",
       "      <td>33.0</td>\n",
       "      <td>23.0</td>\n",
       "      <td>76</td>\n",
       "      <td>DOUBLE</td>\n",
       "      <td>2.0</td>\n",
       "      <td>YES</td>\n",
       "    </tr>\n",
       "    <tr>\n",
       "      <th>44</th>\n",
       "      <td>30.0</td>\n",
       "      <td>26.0</td>\n",
       "      <td>78</td>\n",
       "      <td>Single</td>\n",
       "      <td>2.0</td>\n",
       "      <td>YES</td>\n",
       "    </tr>\n",
       "    <tr>\n",
       "      <th>45</th>\n",
       "      <td>34.0</td>\n",
       "      <td>20.0</td>\n",
       "      <td>68</td>\n",
       "      <td>Single</td>\n",
       "      <td>2.0</td>\n",
       "      <td>YES</td>\n",
       "    </tr>\n",
       "    <tr>\n",
       "      <th>46</th>\n",
       "      <td>35.0</td>\n",
       "      <td>24.0</td>\n",
       "      <td>70</td>\n",
       "      <td>Single</td>\n",
       "      <td>2.0</td>\n",
       "      <td>YES</td>\n",
       "    </tr>\n",
       "    <tr>\n",
       "      <th>47</th>\n",
       "      <td>33.0</td>\n",
       "      <td>22.0</td>\n",
       "      <td>68</td>\n",
       "      <td>DOUBLE</td>\n",
       "      <td>3.0</td>\n",
       "      <td>YES</td>\n",
       "    </tr>\n",
       "    <tr>\n",
       "      <th>48</th>\n",
       "      <td>32.0</td>\n",
       "      <td>25.0</td>\n",
       "      <td>60</td>\n",
       "      <td>Single</td>\n",
       "      <td>3.0</td>\n",
       "      <td>NO</td>\n",
       "    </tr>\n",
       "    <tr>\n",
       "      <th>49</th>\n",
       "      <td>35.0</td>\n",
       "      <td>28.0</td>\n",
       "      <td>57</td>\n",
       "      <td>DOUBLE</td>\n",
       "      <td>3.0</td>\n",
       "      <td>YES</td>\n",
       "    </tr>\n",
       "  </tbody>\n",
       "</table>\n",
       "</div>"
      ],
      "text/plain": [
       "    Age (M)  Age (F)  mot_prewash number of insemination  No of IUI applied  \\\n",
       "0      35.0      22.0          73                 Single                1.0   \n",
       "1      31.0      19.0          75                 Single                1.0   \n",
       "2      27.0      35.0          63                 Single                1.0   \n",
       "3      27.0      20.0          77                 DOUBLE                2.0   \n",
       "4      53.0      32.0          53                 DOUBLE                1.0   \n",
       "5      38.0      29.0          68                 DOUBLE                2.0   \n",
       "6      36.0      28.0          56                 DOUBLE                1.0   \n",
       "7      35.0      23.0          75                 DOUBLE                2.0   \n",
       "8      29.0      23.0          62                 DOUBLE                1.0   \n",
       "9      45.0      38.0          53                 DOUBLE                3.0   \n",
       "10     32.0      29.0          70                 Single                2.0   \n",
       "11     29.0      22.0          67                 Single                1.0   \n",
       "12     38.0      31.0          75                 Single                3.0   \n",
       "13     37.0      37.0          68                 DOUBLE                1.0   \n",
       "14     30.0      26.0          62                 DOUBLE                3.0   \n",
       "15     32.0      21.0          73                 DOUBLE                2.0   \n",
       "16     36.0      29.0          64                 Single                1.0   \n",
       "17     42.0      36.0          76                 Single                3.0   \n",
       "18     39.0      30.0          77                 DOUBLE                1.0   \n",
       "19     66.0      36.0          80                 DOUBLE                2.0   \n",
       "20     30.0      24.0          64                 Single                1.0   \n",
       "21     33.0      23.0          61                 Double                3.0   \n",
       "22     49.0      39.0          85                 DOUBLE                1.0   \n",
       "23     32.0      30.0          81                 DOUBLE                3.0   \n",
       "24     36.0      25.0          58                 DOUBLE                1.0   \n",
       "25     36.0      28.0          67                 DOUBLE                1.0   \n",
       "26     37.0      27.0          60                 DOUBLE                2.0   \n",
       "27     40.0      23.0          40                 DOUBLE                3.0   \n",
       "28     33.0      29.0          77                 DOUBLE                3.0   \n",
       "29     33.0      23.0          46                 Single                2.0   \n",
       "30     35.0      25.0          77                 Single                2.0   \n",
       "31     34.0      21.0          46                 Single                1.0   \n",
       "32     35.0      23.0          58                 DOUBLE                2.0   \n",
       "33     28.0      20.0          68                 Single                2.0   \n",
       "34     40.0      24.0          66                 DOUBLE                2.0   \n",
       "35     37.0      35.0          72                 DOUBLE                1.0   \n",
       "36     38.0      31.0          70                 Single                1.0   \n",
       "37     42.0      36.0          80                 DOUBLE                1.0   \n",
       "38     36.0      32.0          70                 DOUBLE                2.0   \n",
       "39     49.0      29.0          72                 DOUBLE                1.0   \n",
       "40     40.0      32.0          66                 DOUBLE                1.0   \n",
       "41     30.0      21.0          74                 DOUBLE                1.0   \n",
       "42     40.0      23.0          61                 DOUBLE                2.0   \n",
       "43     33.0      23.0          76                 DOUBLE                2.0   \n",
       "44     30.0      26.0          78                 Single                2.0   \n",
       "45     34.0      20.0          68                 Single                2.0   \n",
       "46     35.0      24.0          70                 Single                2.0   \n",
       "47     33.0      22.0          68                 DOUBLE                3.0   \n",
       "48     32.0      25.0          60                 Single                3.0   \n",
       "49     35.0      28.0          57                 DOUBLE                3.0   \n",
       "\n",
       "   Conception Successful   \n",
       "0                     YES  \n",
       "1                     YES  \n",
       "2                      NO  \n",
       "3                     YES  \n",
       "4                      NO  \n",
       "5                     YES  \n",
       "6                      NO  \n",
       "7                     YES  \n",
       "8                     YES  \n",
       "9                      NO  \n",
       "10                    YES  \n",
       "11                    YES  \n",
       "12                    YES  \n",
       "13                     NO  \n",
       "14                    YES  \n",
       "15                    YES  \n",
       "16                     NO  \n",
       "17                     NO  \n",
       "18                    YES  \n",
       "19                    YES  \n",
       "20                     NO  \n",
       "21                     NO  \n",
       "22                    YES  \n",
       "23                    YES  \n",
       "24                    YES  \n",
       "25                    YES  \n",
       "26                    YES  \n",
       "27                     NO  \n",
       "28                    YES  \n",
       "29                     NO  \n",
       "30                    YES  \n",
       "31                     NO  \n",
       "32                     NO  \n",
       "33                    YES  \n",
       "34                    YES  \n",
       "35                     NO  \n",
       "36                    YES  \n",
       "37                    YES  \n",
       "38                    YES  \n",
       "39                    YES  \n",
       "40                    YES  \n",
       "41                    YES  \n",
       "42                     NO  \n",
       "43                    YES  \n",
       "44                    YES  \n",
       "45                    YES  \n",
       "46                    YES  \n",
       "47                    YES  \n",
       "48                     NO  \n",
       "49                    YES  "
      ]
     },
     "execution_count": 13,
     "metadata": {},
     "output_type": "execute_result"
    }
   ],
   "source": [
    "df.head(50)"
   ]
  },
  {
   "cell_type": "code",
   "execution_count": 14,
   "metadata": {},
   "outputs": [],
   "source": [
    "df = df.replace(to_replace =[\"Double\"], value ='DOUBLE' ) "
   ]
  },
  {
   "cell_type": "code",
   "execution_count": 15,
   "metadata": {},
   "outputs": [],
   "source": [
    "df = df.replace(to_replace =[\"Single\"], value ='SINGLE' ) "
   ]
  },
  {
   "cell_type": "code",
   "execution_count": 42,
   "metadata": {},
   "outputs": [],
   "source": [
    "df = df.replace(to_replace =[\"M\"], value ='NO' ) "
   ]
  },
  {
   "cell_type": "code",
   "execution_count": 19,
   "metadata": {},
   "outputs": [
    {
     "data": {
      "text/html": [
       "<div>\n",
       "<style scoped>\n",
       "    .dataframe tbody tr th:only-of-type {\n",
       "        vertical-align: middle;\n",
       "    }\n",
       "\n",
       "    .dataframe tbody tr th {\n",
       "        vertical-align: top;\n",
       "    }\n",
       "\n",
       "    .dataframe thead th {\n",
       "        text-align: right;\n",
       "    }\n",
       "</style>\n",
       "<table border=\"1\" class=\"dataframe\">\n",
       "  <thead>\n",
       "    <tr style=\"text-align: right;\">\n",
       "      <th></th>\n",
       "      <th>Age (M)</th>\n",
       "      <th>Age (F)</th>\n",
       "      <th>mot_prewash</th>\n",
       "      <th>number of insemination</th>\n",
       "      <th>No of IUI applied</th>\n",
       "      <th>Conception Successful</th>\n",
       "    </tr>\n",
       "  </thead>\n",
       "  <tbody>\n",
       "    <tr>\n",
       "      <th>0</th>\n",
       "      <td>35.0</td>\n",
       "      <td>22.0</td>\n",
       "      <td>73</td>\n",
       "      <td>SINGLE</td>\n",
       "      <td>1.0</td>\n",
       "      <td>YES</td>\n",
       "    </tr>\n",
       "    <tr>\n",
       "      <th>1</th>\n",
       "      <td>31.0</td>\n",
       "      <td>19.0</td>\n",
       "      <td>75</td>\n",
       "      <td>SINGLE</td>\n",
       "      <td>1.0</td>\n",
       "      <td>YES</td>\n",
       "    </tr>\n",
       "    <tr>\n",
       "      <th>2</th>\n",
       "      <td>27.0</td>\n",
       "      <td>35.0</td>\n",
       "      <td>63</td>\n",
       "      <td>SINGLE</td>\n",
       "      <td>1.0</td>\n",
       "      <td>NO</td>\n",
       "    </tr>\n",
       "    <tr>\n",
       "      <th>3</th>\n",
       "      <td>27.0</td>\n",
       "      <td>20.0</td>\n",
       "      <td>77</td>\n",
       "      <td>DOUBLE</td>\n",
       "      <td>2.0</td>\n",
       "      <td>YES</td>\n",
       "    </tr>\n",
       "    <tr>\n",
       "      <th>4</th>\n",
       "      <td>53.0</td>\n",
       "      <td>32.0</td>\n",
       "      <td>53</td>\n",
       "      <td>DOUBLE</td>\n",
       "      <td>1.0</td>\n",
       "      <td>NO</td>\n",
       "    </tr>\n",
       "  </tbody>\n",
       "</table>\n",
       "</div>"
      ],
      "text/plain": [
       "   Age (M)  Age (F)  mot_prewash number of insemination  No of IUI applied  \\\n",
       "0     35.0      22.0          73                 SINGLE                1.0   \n",
       "1     31.0      19.0          75                 SINGLE                1.0   \n",
       "2     27.0      35.0          63                 SINGLE                1.0   \n",
       "3     27.0      20.0          77                 DOUBLE                2.0   \n",
       "4     53.0      32.0          53                 DOUBLE                1.0   \n",
       "\n",
       "  Conception Successful   \n",
       "0                    YES  \n",
       "1                    YES  \n",
       "2                     NO  \n",
       "3                    YES  \n",
       "4                     NO  "
      ]
     },
     "execution_count": 19,
     "metadata": {},
     "output_type": "execute_result"
    }
   ],
   "source": [
    "df.head(5)"
   ]
  },
  {
   "cell_type": "code",
   "execution_count": 17,
   "metadata": {},
   "outputs": [
    {
     "name": "stdout",
     "output_type": "stream",
     "text": [
      "<class 'pandas.core.frame.DataFrame'>\n",
      "RangeIndex: 597 entries, 0 to 596\n",
      "Data columns (total 6 columns):\n",
      " #   Column                  Non-Null Count  Dtype  \n",
      "---  ------                  --------------  -----  \n",
      " 0   Age (M)                 597 non-null    float64\n",
      " 1   Age (F)                 597 non-null    float64\n",
      " 2   mot_prewash             596 non-null    object \n",
      " 3   number of insemination  596 non-null    object \n",
      " 4   No of IUI applied       597 non-null    float64\n",
      " 5   Conception Successful   594 non-null    object \n",
      "dtypes: float64(3), object(3)\n",
      "memory usage: 28.1+ KB\n"
     ]
    }
   ],
   "source": [
    "df.info()"
   ]
  },
  {
   "cell_type": "code",
   "execution_count": 20,
   "metadata": {},
   "outputs": [],
   "source": [
    "df = df[df.mot_prewash != 'occ']"
   ]
  },
  {
   "cell_type": "code",
   "execution_count": 21,
   "metadata": {},
   "outputs": [
    {
     "name": "stdout",
     "output_type": "stream",
     "text": [
      "<class 'pandas.core.frame.DataFrame'>\n",
      "Int64Index: 592 entries, 0 to 596\n",
      "Data columns (total 6 columns):\n",
      " #   Column                  Non-Null Count  Dtype  \n",
      "---  ------                  --------------  -----  \n",
      " 0   Age (M)                 592 non-null    float64\n",
      " 1   Age (F)                 592 non-null    float64\n",
      " 2   mot_prewash             591 non-null    object \n",
      " 3   number of insemination  591 non-null    object \n",
      " 4   No of IUI applied       592 non-null    float64\n",
      " 5   Conception Successful   591 non-null    object \n",
      "dtypes: float64(3), object(3)\n",
      "memory usage: 32.4+ KB\n"
     ]
    }
   ],
   "source": [
    "df.info()"
   ]
  },
  {
   "cell_type": "code",
   "execution_count": 22,
   "metadata": {},
   "outputs": [],
   "source": [
    "df['mot_prewash'] = df['mot_prewash'].astype(float)"
   ]
  },
  {
   "cell_type": "code",
   "execution_count": 23,
   "metadata": {},
   "outputs": [
    {
     "name": "stdout",
     "output_type": "stream",
     "text": [
      "<class 'pandas.core.frame.DataFrame'>\n",
      "Int64Index: 592 entries, 0 to 596\n",
      "Data columns (total 6 columns):\n",
      " #   Column                  Non-Null Count  Dtype  \n",
      "---  ------                  --------------  -----  \n",
      " 0   Age (M)                 592 non-null    float64\n",
      " 1   Age (F)                 592 non-null    float64\n",
      " 2   mot_prewash             591 non-null    float64\n",
      " 3   number of insemination  591 non-null    object \n",
      " 4   No of IUI applied       592 non-null    float64\n",
      " 5   Conception Successful   591 non-null    object \n",
      "dtypes: float64(4), object(2)\n",
      "memory usage: 32.4+ KB\n"
     ]
    }
   ],
   "source": [
    "df.info()"
   ]
  },
  {
   "cell_type": "code",
   "execution_count": 24,
   "metadata": {},
   "outputs": [
    {
     "data": {
      "text/plain": [
       "array([73., 75., 63., 77., 53., 68., 56., 62., 70., 67., 64., 76., 80.,\n",
       "       61., 85., 81., 58., 60., 40., 46., 66., 72., 74., 78., 57., 33.,\n",
       "       71., 55., 54., 52., 30., 69., 50., 38., 59., 65., 79., 84., 82.,\n",
       "       35., 44., 25., 51., 83., 88., 14., 87., 89., 29., 86., 48., nan])"
      ]
     },
     "execution_count": 24,
     "metadata": {},
     "output_type": "execute_result"
    }
   ],
   "source": [
    "\n",
    "df.mot_prewash.unique()"
   ]
  },
  {
   "cell_type": "code",
   "execution_count": 31,
   "metadata": {},
   "outputs": [],
   "source": [
    "a = df['number of insemination'].unique()"
   ]
  },
  {
   "cell_type": "code",
   "execution_count": 32,
   "metadata": {},
   "outputs": [
    {
     "data": {
      "text/plain": [
       "array(['SINGLE', 'DOUBLE', nan], dtype=object)"
      ]
     },
     "execution_count": 32,
     "metadata": {},
     "output_type": "execute_result"
    }
   ],
   "source": [
    "a"
   ]
  },
  {
   "cell_type": "code",
   "execution_count": 43,
   "metadata": {},
   "outputs": [],
   "source": [
    "b = df['Conception Successful '].unique()"
   ]
  },
  {
   "cell_type": "code",
   "execution_count": 44,
   "metadata": {},
   "outputs": [
    {
     "data": {
      "text/plain": [
       "array(['YES', 'NO', nan], dtype=object)"
      ]
     },
     "execution_count": 44,
     "metadata": {},
     "output_type": "execute_result"
    }
   ],
   "source": [
    "b"
   ]
  },
  {
   "cell_type": "code",
   "execution_count": 45,
   "metadata": {},
   "outputs": [],
   "source": [
    "df = df.dropna()"
   ]
  },
  {
   "cell_type": "code",
   "execution_count": 48,
   "metadata": {},
   "outputs": [
    {
     "data": {
      "text/plain": [
       "array(['SINGLE', 'DOUBLE'], dtype=object)"
      ]
     },
     "execution_count": 48,
     "metadata": {},
     "output_type": "execute_result"
    }
   ],
   "source": [
    "a = df['number of insemination'].unique()\n",
    "a"
   ]
  },
  {
   "cell_type": "code",
   "execution_count": 49,
   "metadata": {},
   "outputs": [
    {
     "data": {
      "text/plain": [
       "array(['YES', 'NO'], dtype=object)"
      ]
     },
     "execution_count": 49,
     "metadata": {},
     "output_type": "execute_result"
    }
   ],
   "source": [
    "b = df['Conception Successful '].unique()\n",
    "b"
   ]
  },
  {
   "cell_type": "code",
   "execution_count": 50,
   "metadata": {},
   "outputs": [
    {
     "data": {
      "text/plain": [
       "array([73., 75., 63., 77., 53., 68., 56., 62., 70., 67., 64., 76., 80.,\n",
       "       61., 85., 81., 58., 60., 40., 46., 66., 72., 74., 78., 57., 33.,\n",
       "       71., 55., 54., 52., 30., 69., 50., 38., 59., 65., 79., 84., 82.,\n",
       "       35., 44., 25., 51., 83., 88., 14., 87., 89., 29., 86., 48.])"
      ]
     },
     "execution_count": 50,
     "metadata": {},
     "output_type": "execute_result"
    }
   ],
   "source": [
    "df.mot_prewash.unique()"
   ]
  },
  {
   "cell_type": "code",
   "execution_count": 51,
   "metadata": {},
   "outputs": [
    {
     "name": "stdout",
     "output_type": "stream",
     "text": [
      "<class 'pandas.core.frame.DataFrame'>\n",
      "Int64Index: 590 entries, 0 to 596\n",
      "Data columns (total 6 columns):\n",
      " #   Column                  Non-Null Count  Dtype  \n",
      "---  ------                  --------------  -----  \n",
      " 0   Age (M)                 590 non-null    float64\n",
      " 1   Age (F)                 590 non-null    float64\n",
      " 2   mot_prewash             590 non-null    float64\n",
      " 3   number of insemination  590 non-null    object \n",
      " 4   No of IUI applied       590 non-null    float64\n",
      " 5   Conception Successful   590 non-null    object \n",
      "dtypes: float64(4), object(2)\n",
      "memory usage: 32.3+ KB\n"
     ]
    }
   ],
   "source": [
    "df.info()"
   ]
  },
  {
   "cell_type": "code",
   "execution_count": 52,
   "metadata": {},
   "outputs": [],
   "source": [
    "df.to_excel('IUI_Data_Cleaned.xlsx', index = False)"
   ]
  },
  {
   "cell_type": "code",
   "execution_count": 53,
   "metadata": {},
   "outputs": [],
   "source": [
    "# Reding Data again from cleaned dataset\n",
    "df = pd.read_excel('IUI_Data_Cleaned.xlsx')"
   ]
  },
  {
   "cell_type": "code",
   "execution_count": 85,
   "metadata": {},
   "outputs": [],
   "source": [
    "df = df.rename(columns={'Conception Successful ':'Conception Successful'})\n",
    "df = df.rename(columns={'Age (F) ':'Age (F)'})\n"
   ]
  },
  {
   "cell_type": "code",
   "execution_count": 77,
   "metadata": {},
   "outputs": [
    {
     "data": {
      "text/html": [
       "<div>\n",
       "<style scoped>\n",
       "    .dataframe tbody tr th:only-of-type {\n",
       "        vertical-align: middle;\n",
       "    }\n",
       "\n",
       "    .dataframe tbody tr th {\n",
       "        vertical-align: top;\n",
       "    }\n",
       "\n",
       "    .dataframe thead th {\n",
       "        text-align: right;\n",
       "    }\n",
       "</style>\n",
       "<table border=\"1\" class=\"dataframe\">\n",
       "  <thead>\n",
       "    <tr style=\"text-align: right;\">\n",
       "      <th></th>\n",
       "      <th>Age (M)</th>\n",
       "      <th>Age (F)</th>\n",
       "      <th>mot_prewash</th>\n",
       "      <th>number of insemination</th>\n",
       "      <th>No of IUI applied</th>\n",
       "      <th>Conception Successful</th>\n",
       "    </tr>\n",
       "  </thead>\n",
       "  <tbody>\n",
       "    <tr>\n",
       "      <th>0</th>\n",
       "      <td>35</td>\n",
       "      <td>22</td>\n",
       "      <td>73</td>\n",
       "      <td>SINGLE</td>\n",
       "      <td>1</td>\n",
       "      <td>YES</td>\n",
       "    </tr>\n",
       "    <tr>\n",
       "      <th>1</th>\n",
       "      <td>31</td>\n",
       "      <td>19</td>\n",
       "      <td>75</td>\n",
       "      <td>SINGLE</td>\n",
       "      <td>1</td>\n",
       "      <td>YES</td>\n",
       "    </tr>\n",
       "    <tr>\n",
       "      <th>2</th>\n",
       "      <td>27</td>\n",
       "      <td>35</td>\n",
       "      <td>63</td>\n",
       "      <td>SINGLE</td>\n",
       "      <td>1</td>\n",
       "      <td>NO</td>\n",
       "    </tr>\n",
       "    <tr>\n",
       "      <th>3</th>\n",
       "      <td>27</td>\n",
       "      <td>20</td>\n",
       "      <td>77</td>\n",
       "      <td>DOUBLE</td>\n",
       "      <td>2</td>\n",
       "      <td>YES</td>\n",
       "    </tr>\n",
       "    <tr>\n",
       "      <th>4</th>\n",
       "      <td>53</td>\n",
       "      <td>32</td>\n",
       "      <td>53</td>\n",
       "      <td>DOUBLE</td>\n",
       "      <td>1</td>\n",
       "      <td>NO</td>\n",
       "    </tr>\n",
       "  </tbody>\n",
       "</table>\n",
       "</div>"
      ],
      "text/plain": [
       "   Age (M)  Age (F)   mot_prewash number of insemination  No of IUI applied  \\\n",
       "0       35        22           73                 SINGLE                  1   \n",
       "1       31        19           75                 SINGLE                  1   \n",
       "2       27        35           63                 SINGLE                  1   \n",
       "3       27        20           77                 DOUBLE                  2   \n",
       "4       53        32           53                 DOUBLE                  1   \n",
       "\n",
       "  Conception Successful  \n",
       "0                   YES  \n",
       "1                   YES  \n",
       "2                    NO  \n",
       "3                   YES  \n",
       "4                    NO  "
      ]
     },
     "execution_count": 77,
     "metadata": {},
     "output_type": "execute_result"
    }
   ],
   "source": [
    "df.head()"
   ]
  },
  {
   "cell_type": "code",
   "execution_count": 55,
   "metadata": {},
   "outputs": [
    {
     "name": "stdout",
     "output_type": "stream",
     "text": [
      "<class 'pandas.core.frame.DataFrame'>\n",
      "RangeIndex: 590 entries, 0 to 589\n",
      "Data columns (total 6 columns):\n",
      " #   Column                  Non-Null Count  Dtype \n",
      "---  ------                  --------------  ----- \n",
      " 0   Age (M)                 590 non-null    int64 \n",
      " 1   Age (F)                 590 non-null    int64 \n",
      " 2   mot_prewash             590 non-null    int64 \n",
      " 3   number of insemination  590 non-null    object\n",
      " 4   No of IUI applied       590 non-null    int64 \n",
      " 5   Conception Successful   590 non-null    object\n",
      "dtypes: int64(4), object(2)\n",
      "memory usage: 27.8+ KB\n"
     ]
    }
   ],
   "source": [
    "df.info()"
   ]
  },
  {
   "cell_type": "code",
   "execution_count": 60,
   "metadata": {},
   "outputs": [
    {
     "data": {
      "text/html": [
       "<div>\n",
       "<style scoped>\n",
       "    .dataframe tbody tr th:only-of-type {\n",
       "        vertical-align: middle;\n",
       "    }\n",
       "\n",
       "    .dataframe tbody tr th {\n",
       "        vertical-align: top;\n",
       "    }\n",
       "\n",
       "    .dataframe thead th {\n",
       "        text-align: right;\n",
       "    }\n",
       "</style>\n",
       "<table border=\"1\" class=\"dataframe\">\n",
       "  <thead>\n",
       "    <tr style=\"text-align: right;\">\n",
       "      <th></th>\n",
       "      <th>Age (M)</th>\n",
       "      <th>Age (F)</th>\n",
       "      <th>mot_prewash</th>\n",
       "      <th>No of IUI applied</th>\n",
       "    </tr>\n",
       "  </thead>\n",
       "  <tbody>\n",
       "    <tr>\n",
       "      <th>count</th>\n",
       "      <td>590.00</td>\n",
       "      <td>590.00</td>\n",
       "      <td>590.00</td>\n",
       "      <td>590.00</td>\n",
       "    </tr>\n",
       "    <tr>\n",
       "      <th>mean</th>\n",
       "      <td>35.96</td>\n",
       "      <td>27.28</td>\n",
       "      <td>64.11</td>\n",
       "      <td>1.84</td>\n",
       "    </tr>\n",
       "    <tr>\n",
       "      <th>std</th>\n",
       "      <td>6.44</td>\n",
       "      <td>4.89</td>\n",
       "      <td>12.95</td>\n",
       "      <td>0.72</td>\n",
       "    </tr>\n",
       "    <tr>\n",
       "      <th>min</th>\n",
       "      <td>19.00</td>\n",
       "      <td>18.00</td>\n",
       "      <td>14.00</td>\n",
       "      <td>1.00</td>\n",
       "    </tr>\n",
       "    <tr>\n",
       "      <th>25%</th>\n",
       "      <td>32.00</td>\n",
       "      <td>23.00</td>\n",
       "      <td>57.00</td>\n",
       "      <td>1.00</td>\n",
       "    </tr>\n",
       "    <tr>\n",
       "      <th>50%</th>\n",
       "      <td>35.00</td>\n",
       "      <td>27.00</td>\n",
       "      <td>65.00</td>\n",
       "      <td>2.00</td>\n",
       "    </tr>\n",
       "    <tr>\n",
       "      <th>75%</th>\n",
       "      <td>38.00</td>\n",
       "      <td>31.00</td>\n",
       "      <td>73.00</td>\n",
       "      <td>2.00</td>\n",
       "    </tr>\n",
       "    <tr>\n",
       "      <th>max</th>\n",
       "      <td>66.00</td>\n",
       "      <td>40.00</td>\n",
       "      <td>89.00</td>\n",
       "      <td>3.00</td>\n",
       "    </tr>\n",
       "  </tbody>\n",
       "</table>\n",
       "</div>"
      ],
      "text/plain": [
       "       Age (M)  Age (F)   mot_prewash  No of IUI applied\n",
       "count   590.00    590.00       590.00             590.00\n",
       "mean     35.96     27.28        64.11               1.84\n",
       "std       6.44      4.89        12.95               0.72\n",
       "min      19.00     18.00        14.00               1.00\n",
       "25%      32.00     23.00        57.00               1.00\n",
       "50%      35.00     27.00        65.00               2.00\n",
       "75%      38.00     31.00        73.00               2.00\n",
       "max      66.00     40.00        89.00               3.00"
      ]
     },
     "execution_count": 60,
     "metadata": {},
     "output_type": "execute_result"
    }
   ],
   "source": [
    "df.describe().round(2)"
   ]
  },
  {
   "cell_type": "markdown",
   "metadata": {},
   "source": [
    "#### Maximum age for Male and Female was 66 and 40 respectively, Minimum age was 19 for male and 18 for female"
   ]
  },
  {
   "cell_type": "markdown",
   "metadata": {},
   "source": [
    "## Data Visualization"
   ]
  },
  {
   "cell_type": "markdown",
   "metadata": {},
   "source": [
    "#### Pair plot (relation of every column with each other )"
   ]
  },
  {
   "cell_type": "code",
   "execution_count": 61,
   "metadata": {},
   "outputs": [
    {
     "data": {
      "text/plain": [
       "<seaborn.axisgrid.PairGrid at 0x29c4d45be88>"
      ]
     },
     "execution_count": 61,
     "metadata": {},
     "output_type": "execute_result"
    },
    {
     "data": {
      "image/png": "[encoded data removed]",
      "text/plain": [
       "<Figure size 720x720 with 20 Axes>"
      ]
     },
     "metadata": {},
     "output_type": "display_data"
    }
   ],
   "source": [
    "sns.set_palette(\"husl\")\n",
    "sns.set_style('whitegrid')\n",
    "sns.pairplot(df)"
   ]
  },
  {
   "cell_type": "code",
   "execution_count": 63,
   "metadata": {},
   "outputs": [
    {
     "data": {
      "image/png": "[encoded data removed]",
      "text/plain": [
       "<Figure size 432x288 with 1 Axes>"
      ]
     },
     "metadata": {},
     "output_type": "display_data"
    }
   ],
   "source": [
    "#Patient count with respect to age\n",
    "sns.countplot(x='number of insemination',data=df)\n",
    "sns.set(rc={'figure.figsize':(64,32)})"
   ]
  },
  {
   "cell_type": "code",
   "execution_count": 66,
   "metadata": {},
   "outputs": [
    {
     "data": {
      "image/png": "[encoded data removed]",
      "text/plain": [
       "<Figure size 576x432 with 2 Axes>"
      ]
     },
     "metadata": {},
     "output_type": "display_data"
    }
   ],
   "source": [
    "ncount = len(df)\n",
    "\n",
    "plt.figure(figsize=(8,6))\n",
    "ax = sns.countplot(x=\"number of insemination\", data=df, )\n",
    "plt.title('Distribution of number of insemination')\n",
    "plt.xlabel('number of insemination')\n",
    "\n",
    "# Make twin axis\n",
    "ax2=ax.twinx()\n",
    "\n",
    "# Switch so count axis is on right, frequency on left\n",
    "ax2.yaxis.tick_left()\n",
    "ax.yaxis.tick_right()\n",
    "\n",
    "# Also switch the labels over\n",
    "ax.yaxis.set_label_position('right')\n",
    "ax2.yaxis.set_label_position('left')\n",
    "\n",
    "ax2.set_ylabel('Frequency [%]')\n",
    "\n",
    "for p in ax.patches:\n",
    "    x=p.get_bbox().get_points()[:,0]\n",
    "    y=p.get_bbox().get_points()[1,1]\n",
    "    ax.annotate('{:.1f}%'.format(100.*y/ncount), (x.mean(), y), \n",
    "            ha='center', va='bottom') # set the alignment of the text\n",
    "\n",
    "# Use a LinearLocator to ensure the correct number of ticks\n",
    "ax.yaxis.set_major_locator(ticker.LinearLocator(11))\n",
    "\n",
    "# Fix the frequency range to 0-100\n",
    "ax2.set_ylim(0,100)\n",
    "ax.set_ylim(0,ncount)\n",
    "\n",
    "# And use a MultipleLocator to ensure a tick spacing of 10\n",
    "ax2.yaxis.set_major_locator(ticker.MultipleLocator(10))\n",
    "\n",
    "# Need to turn the grid on ax2 off, otherwise the gridlines end up on top of the bars\n",
    "ax2.grid(None)\n",
    "\n",
    "#plt.savefig('snscounter.pdf')"
   ]
  },
  {
   "cell_type": "markdown",
   "metadata": {},
   "source": [
    "#### Value counts of number of insemination column"
   ]
  },
  {
   "cell_type": "code",
   "execution_count": 69,
   "metadata": {},
   "outputs": [
    {
     "data": {
      "text/plain": [
       "SINGLE    300\n",
       "DOUBLE    290\n",
       "Name: number of insemination, dtype: int64"
      ]
     },
     "execution_count": 69,
     "metadata": {},
     "output_type": "execute_result"
    }
   ],
   "source": [
    "df['number of insemination'].value_counts()"
   ]
  },
  {
   "cell_type": "markdown",
   "metadata": {},
   "source": [
    "#### Value counts of number of Conception Successful"
   ]
  },
  {
   "cell_type": "code",
   "execution_count": 78,
   "metadata": {},
   "outputs": [
    {
     "data": {
      "text/plain": [
       "YES    401\n",
       "NO     189\n",
       "Name: Conception Successful, dtype: int64"
      ]
     },
     "execution_count": 78,
     "metadata": {},
     "output_type": "execute_result"
    }
   ],
   "source": [
    "df['Conception Successful'].value_counts()"
   ]
  },
  {
   "cell_type": "code",
   "execution_count": 79,
   "metadata": {},
   "outputs": [
    {
     "data": {
      "image/png": "[encoded data removed]",
      "text/plain": [
       "<Figure size 576x432 with 2 Axes>"
      ]
     },
     "metadata": {},
     "output_type": "display_data"
    }
   ],
   "source": [
    "ncount = len(df)\n",
    "\n",
    "plt.figure(figsize=(8,6))\n",
    "ax = sns.countplot(x=\"Conception Successful\", data=df, )\n",
    "plt.title('Distribution of Conception Successful')\n",
    "plt.xlabel('Conception Successful')\n",
    "\n",
    "# Make twin axis\n",
    "ax2=ax.twinx()\n",
    "\n",
    "# Switch so count axis is on right, frequency on left\n",
    "ax2.yaxis.tick_left()\n",
    "ax.yaxis.tick_right()\n",
    "\n",
    "# Also switch the labels over\n",
    "ax.yaxis.set_label_position('right')\n",
    "ax2.yaxis.set_label_position('left')\n",
    "\n",
    "ax2.set_ylabel('Frequency [%]')\n",
    "\n",
    "for p in ax.patches:\n",
    "    x=p.get_bbox().get_points()[:,0]\n",
    "    y=p.get_bbox().get_points()[1,1]\n",
    "    ax.annotate('{:.1f}%'.format(100.*y/ncount), (x.mean(), y), \n",
    "            ha='center', va='bottom') # set the alignment of the text\n",
    "\n",
    "# Use a LinearLocator to ensure the correct number of ticks\n",
    "ax.yaxis.set_major_locator(ticker.LinearLocator(11))\n",
    "\n",
    "# Fix the frequency range to 0-100\n",
    "ax2.set_ylim(0,100)\n",
    "ax.set_ylim(0,ncount)\n",
    "\n",
    "# And use a MultipleLocator to ensure a tick spacing of 10\n",
    "ax2.yaxis.set_major_locator(ticker.MultipleLocator(10))\n",
    "\n",
    "# Need to turn the grid on ax2 off, otherwise the gridlines end up on top of the bars\n",
    "ax2.grid(None)\n",
    "\n",
    "#plt.savefig('snscounter.pdf')"
   ]
  },
  {
   "cell_type": "code",
   "execution_count": 80,
   "metadata": {},
   "outputs": [
    {
     "data": {
      "text/html": [
       "<div>\n",
       "<style scoped>\n",
       "    .dataframe tbody tr th:only-of-type {\n",
       "        vertical-align: middle;\n",
       "    }\n",
       "\n",
       "    .dataframe tbody tr th {\n",
       "        vertical-align: top;\n",
       "    }\n",
       "\n",
       "    .dataframe thead th {\n",
       "        text-align: right;\n",
       "    }\n",
       "</style>\n",
       "<table border=\"1\" class=\"dataframe\">\n",
       "  <thead>\n",
       "    <tr style=\"text-align: right;\">\n",
       "      <th></th>\n",
       "      <th>Age (M)</th>\n",
       "      <th>Age (F)</th>\n",
       "      <th>mot_prewash</th>\n",
       "      <th>number of insemination</th>\n",
       "      <th>No of IUI applied</th>\n",
       "      <th>Conception Successful</th>\n",
       "    </tr>\n",
       "  </thead>\n",
       "  <tbody>\n",
       "    <tr>\n",
       "      <th>0</th>\n",
       "      <td>35</td>\n",
       "      <td>22</td>\n",
       "      <td>73</td>\n",
       "      <td>SINGLE</td>\n",
       "      <td>1</td>\n",
       "      <td>YES</td>\n",
       "    </tr>\n",
       "    <tr>\n",
       "      <th>1</th>\n",
       "      <td>31</td>\n",
       "      <td>19</td>\n",
       "      <td>75</td>\n",
       "      <td>SINGLE</td>\n",
       "      <td>1</td>\n",
       "      <td>YES</td>\n",
       "    </tr>\n",
       "    <tr>\n",
       "      <th>2</th>\n",
       "      <td>27</td>\n",
       "      <td>35</td>\n",
       "      <td>63</td>\n",
       "      <td>SINGLE</td>\n",
       "      <td>1</td>\n",
       "      <td>NO</td>\n",
       "    </tr>\n",
       "    <tr>\n",
       "      <th>3</th>\n",
       "      <td>27</td>\n",
       "      <td>20</td>\n",
       "      <td>77</td>\n",
       "      <td>DOUBLE</td>\n",
       "      <td>2</td>\n",
       "      <td>YES</td>\n",
       "    </tr>\n",
       "    <tr>\n",
       "      <th>4</th>\n",
       "      <td>53</td>\n",
       "      <td>32</td>\n",
       "      <td>53</td>\n",
       "      <td>DOUBLE</td>\n",
       "      <td>1</td>\n",
       "      <td>NO</td>\n",
       "    </tr>\n",
       "  </tbody>\n",
       "</table>\n",
       "</div>"
      ],
      "text/plain": [
       "   Age (M)  Age (F)   mot_prewash number of insemination  No of IUI applied  \\\n",
       "0       35        22           73                 SINGLE                  1   \n",
       "1       31        19           75                 SINGLE                  1   \n",
       "2       27        35           63                 SINGLE                  1   \n",
       "3       27        20           77                 DOUBLE                  2   \n",
       "4       53        32           53                 DOUBLE                  1   \n",
       "\n",
       "  Conception Successful  \n",
       "0                   YES  \n",
       "1                   YES  \n",
       "2                    NO  \n",
       "3                   YES  \n",
       "4                    NO  "
      ]
     },
     "execution_count": 80,
     "metadata": {},
     "output_type": "execute_result"
    }
   ],
   "source": [
    "df.head()"
   ]
  },
  {
   "cell_type": "markdown",
   "metadata": {},
   "source": [
    "#### Distribution of male and female age"
   ]
  },
  {
   "cell_type": "code",
   "execution_count": 116,
   "metadata": {},
   "outputs": [
    {
     "data": {
      "text/plain": [
       "<matplotlib.axes._subplots.AxesSubplot at 0x29c509dd8c8>"
      ]
     },
     "execution_count": 116,
     "metadata": {},
     "output_type": "execute_result"
    },
    {
     "data": {
      "image/png": "[encoded data removed]",
      "text/plain": [
       "<Figure size 720x432 with 1 Axes>"
      ]
     },
     "metadata": {},
     "output_type": "display_data"
    }
   ],
   "source": [
    "sns.distplot(df['Age (M)'],bins=80,color='red', kde=False)"
   ]
  },
  {
   "cell_type": "code",
   "execution_count": 114,
   "metadata": {},
   "outputs": [
    {
     "data": {
      "text/plain": [
       "<matplotlib.axes._subplots.AxesSubplot at 0x29c4f7ff248>"
      ]
     },
     "execution_count": 114,
     "metadata": {},
     "output_type": "execute_result"
    },
    {
     "data": {
      "image/png": "[encoded data removed]",
      "text/plain": [
       "<Figure size 720x432 with 1 Axes>"
      ]
     },
     "metadata": {},
     "output_type": "display_data"
    }
   ],
   "source": [
    "sns.distplot(df['Age (F)'],bins=80,color='red', kde=False)"
   ]
  },
  {
   "cell_type": "code",
   "execution_count": 101,
   "metadata": {},
   "outputs": [
    {
     "data": {
      "text/plain": [
       "<matplotlib.axes._subplots.AxesSubplot at 0x29c4f924cc8>"
      ]
     },
     "execution_count": 101,
     "metadata": {},
     "output_type": "execute_result"
    },
    {
     "data": {
      "image/png": "[encoded data removed]",
      "text/plain": [
       "<Figure size 720x432 with 1 Axes>"
      ]
     },
     "metadata": {},
     "output_type": "display_data"
    }
   ],
   "source": [
    "sns.set(rc={'figure.figsize':(10,6)})\n",
    "sns.boxplot(x='number of insemination',y='Age (M)',data=df,palette='rainbow')\n"
   ]
  },
  {
   "cell_type": "code",
   "execution_count": 102,
   "metadata": {},
   "outputs": [
    {
     "data": {
      "text/plain": [
       "<matplotlib.axes._subplots.AxesSubplot at 0x29c4fb29108>"
      ]
     },
     "execution_count": 102,
     "metadata": {},
     "output_type": "execute_result"
    },
    {
     "data": {
      "image/png": "[encoded data removed]",
      "text/plain": [
       "<Figure size 720x432 with 1 Axes>"
      ]
     },
     "metadata": {},
     "output_type": "display_data"
    }
   ],
   "source": [
    "sns.boxplot(x='number of insemination',y='Age (F)',data=df,palette='rainbow')"
   ]
  },
  {
   "cell_type": "markdown",
   "metadata": {},
   "source": [
    "#### Discussion: We can see from above graphs most male patient were from age 30-40 years and most felmale patient were from age 25-30 years old in the population "
   ]
  },
  {
   "cell_type": "markdown",
   "metadata": {},
   "source": [
    "# Correlation map\n",
    "### this map will show how each column related to each other, highest value is 1. Every column is fully related to itself that's why thier value is 1 (Red Cells) "
   ]
  },
  {
   "cell_type": "code",
   "execution_count": 131,
   "metadata": {},
   "outputs": [
    {
     "data": {
      "text/html": [
       "<div>\n",
       "<style scoped>\n",
       "    .dataframe tbody tr th:only-of-type {\n",
       "        vertical-align: middle;\n",
       "    }\n",
       "\n",
       "    .dataframe tbody tr th {\n",
       "        vertical-align: top;\n",
       "    }\n",
       "\n",
       "    .dataframe thead th {\n",
       "        text-align: right;\n",
       "    }\n",
       "</style>\n",
       "<table border=\"1\" class=\"dataframe\">\n",
       "  <thead>\n",
       "    <tr style=\"text-align: right;\">\n",
       "      <th></th>\n",
       "      <th>Age (M)</th>\n",
       "      <th>Age (F)</th>\n",
       "      <th>mot_prewash</th>\n",
       "      <th>number of insemination</th>\n",
       "      <th>No of IUI applied</th>\n",
       "      <th>Conception Successful</th>\n",
       "    </tr>\n",
       "  </thead>\n",
       "  <tbody>\n",
       "    <tr>\n",
       "      <th>0</th>\n",
       "      <td>35</td>\n",
       "      <td>22</td>\n",
       "      <td>73</td>\n",
       "      <td>SINGLE</td>\n",
       "      <td>1</td>\n",
       "      <td>YES</td>\n",
       "    </tr>\n",
       "    <tr>\n",
       "      <th>1</th>\n",
       "      <td>31</td>\n",
       "      <td>19</td>\n",
       "      <td>75</td>\n",
       "      <td>SINGLE</td>\n",
       "      <td>1</td>\n",
       "      <td>YES</td>\n",
       "    </tr>\n",
       "    <tr>\n",
       "      <th>2</th>\n",
       "      <td>27</td>\n",
       "      <td>35</td>\n",
       "      <td>63</td>\n",
       "      <td>SINGLE</td>\n",
       "      <td>1</td>\n",
       "      <td>NO</td>\n",
       "    </tr>\n",
       "    <tr>\n",
       "      <th>3</th>\n",
       "      <td>27</td>\n",
       "      <td>20</td>\n",
       "      <td>77</td>\n",
       "      <td>DOUBLE</td>\n",
       "      <td>2</td>\n",
       "      <td>YES</td>\n",
       "    </tr>\n",
       "    <tr>\n",
       "      <th>4</th>\n",
       "      <td>53</td>\n",
       "      <td>32</td>\n",
       "      <td>53</td>\n",
       "      <td>DOUBLE</td>\n",
       "      <td>1</td>\n",
       "      <td>NO</td>\n",
       "    </tr>\n",
       "  </tbody>\n",
       "</table>\n",
       "</div>"
      ],
      "text/plain": [
       "   Age (M)  Age (F)  mot_prewash number of insemination  No of IUI applied  \\\n",
       "0       35       22           73                 SINGLE                  1   \n",
       "1       31       19           75                 SINGLE                  1   \n",
       "2       27       35           63                 SINGLE                  1   \n",
       "3       27       20           77                 DOUBLE                  2   \n",
       "4       53       32           53                 DOUBLE                  1   \n",
       "\n",
       "  Conception Successful  \n",
       "0                   YES  \n",
       "1                   YES  \n",
       "2                    NO  \n",
       "3                   YES  \n",
       "4                    NO  "
      ]
     },
     "execution_count": 131,
     "metadata": {},
     "output_type": "execute_result"
    }
   ],
   "source": [
    "df.head()"
   ]
  },
  {
   "cell_type": "code",
   "execution_count": 118,
   "metadata": {},
   "outputs": [
    {
     "data": {
      "text/plain": [
       "<matplotlib.axes._subplots.AxesSubplot at 0x29c536ad588>"
      ]
     },
     "execution_count": 118,
     "metadata": {},
     "output_type": "execute_result"
    },
    {
     "data": {
      "image/png": "[encoded data removed]",
      "text/plain": [
       "<Figure size 720x432 with 2 Axes>"
      ]
     },
     "metadata": {},
     "output_type": "display_data"
    }
   ],
   "source": [
    "sns.heatmap(df.corr(),cmap='coolwarm',annot=True)"
   ]
  },
  {
   "cell_type": "markdown",
   "metadata": {},
   "source": [
    "### Relation between Motility and Coception"
   ]
  },
  {
   "cell_type": "code",
   "execution_count": 124,
   "metadata": {},
   "outputs": [
    {
     "data": {
      "text/plain": [
       "<matplotlib.axes._subplots.AxesSubplot at 0x29c53a24948>"
      ]
     },
     "execution_count": 124,
     "metadata": {},
     "output_type": "execute_result"
    },
    {
     "data": {
      "image/png": "[encoded data removed]",
      "text/plain": [
       "<Figure size 720x432 with 1 Axes>"
      ]
     },
     "metadata": {},
     "output_type": "display_data"
    }
   ],
   "source": [
    "sns.boxplot(x='Conception Successful',y='mot_prewash',data=df,palette='rainbow')"
   ]
  },
  {
   "cell_type": "code",
   "execution_count": 126,
   "metadata": {},
   "outputs": [
    {
     "data": {
      "text/plain": [
       "<matplotlib.axes._subplots.AxesSubplot at 0x29c509c71c8>"
      ]
     },
     "execution_count": 126,
     "metadata": {},
     "output_type": "execute_result"
    },
    {
     "data": {
      "image/png": "[encoded data removed]",
      "text/plain": [
       "<Figure size 720x432 with 1 Axes>"
      ]
     },
     "metadata": {},
     "output_type": "display_data"
    }
   ],
   "source": [
    "sns.distplot(df['mot_prewash'],bins=80,color='red', )"
   ]
  },
  {
   "cell_type": "code",
   "execution_count": 127,
   "metadata": {},
   "outputs": [
    {
     "data": {
      "text/plain": [
       "count    590.000000\n",
       "mean      64.106780\n",
       "std       12.947607\n",
       "min       14.000000\n",
       "25%       57.000000\n",
       "50%       65.000000\n",
       "75%       73.000000\n",
       "max       89.000000\n",
       "Name: mot_prewash, dtype: float64"
      ]
     },
     "execution_count": 127,
     "metadata": {},
     "output_type": "execute_result"
    }
   ],
   "source": [
    "##Overall description of motility\n",
    "df['mot_prewash'].describe()"
   ]
  },
  {
   "cell_type": "markdown",
   "metadata": {},
   "source": [
    "#### Discussion: If Conception was successfull the  Motility value was higher, most values were areound 65-75. If Conception was unsuccesfull the motility value was lower, which was around 50-65. For overall motilty value for both successfull and unsucessfull it was around 64 (mean)"
   ]
  },
  {
   "cell_type": "code",
   "execution_count": null,
   "metadata": {},
   "outputs": [],
   "source": []
  },
  {
   "cell_type": "markdown",
   "metadata": {},
   "source": [
    "### Relation between age of Female and Conception"
   ]
  },
  {
   "cell_type": "code",
   "execution_count": 128,
   "metadata": {},
   "outputs": [
    {
     "data": {
      "text/plain": [
       "<matplotlib.axes._subplots.AxesSubplot at 0x29c53e41f88>"
      ]
     },
     "execution_count": 128,
     "metadata": {},
     "output_type": "execute_result"
    },
    {
     "data": {
      "image/png": "[encoded data removed]",
      "text/plain": [
       "<Figure size 720x432 with 1 Axes>"
      ]
     },
     "metadata": {},
     "output_type": "display_data"
    }
   ],
   "source": [
    "sns.boxplot(x='Conception Successful',y='Age (F)',data=df,palette='rainbow')"
   ]
  },
  {
   "cell_type": "markdown",
   "metadata": {},
   "source": [
    "#### Discussion: For Sucessfull Conception ('YES') the age of female was lower, for Unsuccessfull Conception ('NO') the age of female was higher. But difference was barely noticeable.  "
   ]
  },
  {
   "cell_type": "code",
   "execution_count": 132,
   "metadata": {},
   "outputs": [
    {
     "data": {
      "text/html": [
       "<div>\n",
       "<style scoped>\n",
       "    .dataframe tbody tr th:only-of-type {\n",
       "        vertical-align: middle;\n",
       "    }\n",
       "\n",
       "    .dataframe tbody tr th {\n",
       "        vertical-align: top;\n",
       "    }\n",
       "\n",
       "    .dataframe thead th {\n",
       "        text-align: right;\n",
       "    }\n",
       "</style>\n",
       "<table border=\"1\" class=\"dataframe\">\n",
       "  <thead>\n",
       "    <tr style=\"text-align: right;\">\n",
       "      <th></th>\n",
       "      <th>Age (M)</th>\n",
       "      <th>Age (F)</th>\n",
       "      <th>mot_prewash</th>\n",
       "      <th>number of insemination</th>\n",
       "      <th>No of IUI applied</th>\n",
       "      <th>Conception Successful</th>\n",
       "    </tr>\n",
       "  </thead>\n",
       "  <tbody>\n",
       "    <tr>\n",
       "      <th>0</th>\n",
       "      <td>35</td>\n",
       "      <td>22</td>\n",
       "      <td>73</td>\n",
       "      <td>SINGLE</td>\n",
       "      <td>1</td>\n",
       "      <td>YES</td>\n",
       "    </tr>\n",
       "    <tr>\n",
       "      <th>1</th>\n",
       "      <td>31</td>\n",
       "      <td>19</td>\n",
       "      <td>75</td>\n",
       "      <td>SINGLE</td>\n",
       "      <td>1</td>\n",
       "      <td>YES</td>\n",
       "    </tr>\n",
       "    <tr>\n",
       "      <th>2</th>\n",
       "      <td>27</td>\n",
       "      <td>35</td>\n",
       "      <td>63</td>\n",
       "      <td>SINGLE</td>\n",
       "      <td>1</td>\n",
       "      <td>NO</td>\n",
       "    </tr>\n",
       "    <tr>\n",
       "      <th>3</th>\n",
       "      <td>27</td>\n",
       "      <td>20</td>\n",
       "      <td>77</td>\n",
       "      <td>DOUBLE</td>\n",
       "      <td>2</td>\n",
       "      <td>YES</td>\n",
       "    </tr>\n",
       "    <tr>\n",
       "      <th>4</th>\n",
       "      <td>53</td>\n",
       "      <td>32</td>\n",
       "      <td>53</td>\n",
       "      <td>DOUBLE</td>\n",
       "      <td>1</td>\n",
       "      <td>NO</td>\n",
       "    </tr>\n",
       "  </tbody>\n",
       "</table>\n",
       "</div>"
      ],
      "text/plain": [
       "   Age (M)  Age (F)  mot_prewash number of insemination  No of IUI applied  \\\n",
       "0       35       22           73                 SINGLE                  1   \n",
       "1       31       19           75                 SINGLE                  1   \n",
       "2       27       35           63                 SINGLE                  1   \n",
       "3       27       20           77                 DOUBLE                  2   \n",
       "4       53       32           53                 DOUBLE                  1   \n",
       "\n",
       "  Conception Successful  \n",
       "0                   YES  \n",
       "1                   YES  \n",
       "2                    NO  \n",
       "3                   YES  \n",
       "4                    NO  "
      ]
     },
     "execution_count": 132,
     "metadata": {},
     "output_type": "execute_result"
    }
   ],
   "source": [
    "df.head()"
   ]
  },
  {
   "cell_type": "markdown",
   "metadata": {},
   "source": [
    "### Relation between No of IUI applied  and Conception Successful"
   ]
  },
  {
   "cell_type": "code",
   "execution_count": 139,
   "metadata": {},
   "outputs": [
    {
     "data": {
      "text/plain": [
       "<matplotlib.axes._subplots.AxesSubplot at 0x29c507963c8>"
      ]
     },
     "execution_count": 139,
     "metadata": {},
     "output_type": "execute_result"
    },
    {
     "data": {
      "image/png": "[encoded data removed]",
      "text/plain": [
       "<Figure size 720x432 with 1 Axes>"
      ]
     },
     "metadata": {},
     "output_type": "display_data"
    }
   ],
   "source": [
    "sns.countplot(x='No of IUI applied',data=df)"
   ]
  },
  {
   "cell_type": "code",
   "execution_count": 140,
   "metadata": {},
   "outputs": [
    {
     "data": {
      "text/plain": [
       "<matplotlib.axes._subplots.AxesSubplot at 0x29c507cf108>"
      ]
     },
     "execution_count": 140,
     "metadata": {},
     "output_type": "execute_result"
    },
    {
     "data": {
      "image/png": "[encoded data removed]",
      "text/plain": [
       "<Figure size 720x432 with 1 Axes>"
      ]
     },
     "metadata": {},
     "output_type": "display_data"
    }
   ],
   "source": [
    "sns.countplot(x='Conception Successful',data=df)"
   ]
  },
  {
   "cell_type": "code",
   "execution_count": 137,
   "metadata": {},
   "outputs": [
    {
     "data": {
      "text/plain": [
       "<matplotlib.axes._subplots.AxesSubplot at 0x29c5071a708>"
      ]
     },
     "execution_count": 137,
     "metadata": {},
     "output_type": "execute_result"
    },
    {
     "data": {
      "image/png": "[encoded data removed]",
      "text/plain": [
       "<Figure size 720x432 with 1 Axes>"
      ]
     },
     "metadata": {},
     "output_type": "display_data"
    }
   ],
   "source": [
    "sns.barplot(x='Conception Successful',y='No of IUI applied',data=df)"
   ]
  },
  {
   "cell_type": "code",
   "execution_count": 141,
   "metadata": {},
   "outputs": [
    {
     "data": {
      "text/plain": [
       "<matplotlib.axes._subplots.AxesSubplot at 0x29c525b7188>"
      ]
     },
     "execution_count": 141,
     "metadata": {},
     "output_type": "execute_result"
    },
    {
     "data": {
      "image/png": "[encoded data removed]",
      "text/plain": [
       "<Figure size 720x432 with 1 Axes>"
      ]
     },
     "metadata": {},
     "output_type": "display_data"
    }
   ],
   "source": [
    "sns.violinplot(x=\"Conception Successful\", y=\"No of IUI applied\", data=df,palette='rainbow')"
   ]
  },
  {
   "cell_type": "markdown",
   "metadata": {},
   "source": [
    "### Discusion: From Violin plot above we can see that for both Conception type('YES' and 'NO' ) the No of IUI applied is almost same, but in each type IUI applied value 2 was higher than other values 1 and 2, the least applied value was 3.  \n"
   ]
  },
  {
   "cell_type": "code",
   "execution_count": null,
   "metadata": {},
   "outputs": [],
   "source": []
  }
 ],
 "metadata": {
  "kernelspec": {
   "display_name": "Python 3",
   "language": "python",
   "name": "python3"
  },
  "language_info": {
   "codemirror_mode": {
    "name": "ipython",
    "version": 3
   },
   "file_extension": ".py",
   "mimetype": "text/x-python",
   "name": "python",
   "nbconvert_exporter": "python",
   "pygments_lexer": "ipython3",
   "version": "3.7.6"
  }
 },
 "nbformat": 4,
 "nbformat_minor": 4
}
